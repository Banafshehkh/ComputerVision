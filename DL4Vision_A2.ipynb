{
  "nbformat": 4,
  "nbformat_minor": 0,
  "metadata": {
    "colab": {
      "provenance": [],
      "include_colab_link": true
    },
    "kernelspec": {
      "name": "python3",
      "display_name": "Python 3"
    },
    "language_info": {
      "name": "python"
    },
    "accelerator": "GPU",
    "gpuClass": "standard",
    "widgets": {
      "application/vnd.jupyter.widget-state+json": {
        "c851be12178e4bb0a7ecc67150c63abf": {
          "model_module": "@jupyter-widgets/controls",
          "model_name": "HBoxModel",
          "model_module_version": "1.5.0",
          "state": {
            "_dom_classes": [],
            "_model_module": "@jupyter-widgets/controls",
            "_model_module_version": "1.5.0",
            "_model_name": "HBoxModel",
            "_view_count": null,
            "_view_module": "@jupyter-widgets/controls",
            "_view_module_version": "1.5.0",
            "_view_name": "HBoxView",
            "box_style": "",
            "children": [
              "IPY_MODEL_4406af50bc2d4eba91db74651689231a",
              "IPY_MODEL_c9a6c186c6dd4ed58e6974564b17d875",
              "IPY_MODEL_7f9c17364fb74d08874abadf4f10b5fa"
            ],
            "layout": "IPY_MODEL_699b3799f2cb45b08d2424eee480b760"
          }
        },
        "4406af50bc2d4eba91db74651689231a": {
          "model_module": "@jupyter-widgets/controls",
          "model_name": "HTMLModel",
          "model_module_version": "1.5.0",
          "state": {
            "_dom_classes": [],
            "_model_module": "@jupyter-widgets/controls",
            "_model_module_version": "1.5.0",
            "_model_name": "HTMLModel",
            "_view_count": null,
            "_view_module": "@jupyter-widgets/controls",
            "_view_module_version": "1.5.0",
            "_view_name": "HTMLView",
            "description": "",
            "description_tooltip": null,
            "layout": "IPY_MODEL_b9106a3544864667848dea0d3822ab01",
            "placeholder": "​",
            "style": "IPY_MODEL_d60d82c9fe88463798329a7c98a971ba",
            "value": "100%"
          }
        },
        "c9a6c186c6dd4ed58e6974564b17d875": {
          "model_module": "@jupyter-widgets/controls",
          "model_name": "FloatProgressModel",
          "model_module_version": "1.5.0",
          "state": {
            "_dom_classes": [],
            "_model_module": "@jupyter-widgets/controls",
            "_model_module_version": "1.5.0",
            "_model_name": "FloatProgressModel",
            "_view_count": null,
            "_view_module": "@jupyter-widgets/controls",
            "_view_module_version": "1.5.0",
            "_view_name": "ProgressView",
            "bar_style": "success",
            "description": "",
            "description_tooltip": null,
            "layout": "IPY_MODEL_267ecea189d14c80a0e3bb19301af5dc",
            "max": 9912422,
            "min": 0,
            "orientation": "horizontal",
            "style": "IPY_MODEL_a3fa64add19d4ad1807908602ddf79bb",
            "value": 9912422
          }
        },
        "7f9c17364fb74d08874abadf4f10b5fa": {
          "model_module": "@jupyter-widgets/controls",
          "model_name": "HTMLModel",
          "model_module_version": "1.5.0",
          "state": {
            "_dom_classes": [],
            "_model_module": "@jupyter-widgets/controls",
            "_model_module_version": "1.5.0",
            "_model_name": "HTMLModel",
            "_view_count": null,
            "_view_module": "@jupyter-widgets/controls",
            "_view_module_version": "1.5.0",
            "_view_name": "HTMLView",
            "description": "",
            "description_tooltip": null,
            "layout": "IPY_MODEL_da1968d888024a0e86645b0ac570fddb",
            "placeholder": "​",
            "style": "IPY_MODEL_304e03e55c404eb18fc02b60b3dd1901",
            "value": " 9912422/9912422 [00:00&lt;00:00, 18590562.74it/s]"
          }
        },
        "699b3799f2cb45b08d2424eee480b760": {
          "model_module": "@jupyter-widgets/base",
          "model_name": "LayoutModel",
          "model_module_version": "1.2.0",
          "state": {
            "_model_module": "@jupyter-widgets/base",
            "_model_module_version": "1.2.0",
            "_model_name": "LayoutModel",
            "_view_count": null,
            "_view_module": "@jupyter-widgets/base",
            "_view_module_version": "1.2.0",
            "_view_name": "LayoutView",
            "align_content": null,
            "align_items": null,
            "align_self": null,
            "border": null,
            "bottom": null,
            "display": null,
            "flex": null,
            "flex_flow": null,
            "grid_area": null,
            "grid_auto_columns": null,
            "grid_auto_flow": null,
            "grid_auto_rows": null,
            "grid_column": null,
            "grid_gap": null,
            "grid_row": null,
            "grid_template_areas": null,
            "grid_template_columns": null,
            "grid_template_rows": null,
            "height": null,
            "justify_content": null,
            "justify_items": null,
            "left": null,
            "margin": null,
            "max_height": null,
            "max_width": null,
            "min_height": null,
            "min_width": null,
            "object_fit": null,
            "object_position": null,
            "order": null,
            "overflow": null,
            "overflow_x": null,
            "overflow_y": null,
            "padding": null,
            "right": null,
            "top": null,
            "visibility": null,
            "width": null
          }
        },
        "b9106a3544864667848dea0d3822ab01": {
          "model_module": "@jupyter-widgets/base",
          "model_name": "LayoutModel",
          "model_module_version": "1.2.0",
          "state": {
            "_model_module": "@jupyter-widgets/base",
            "_model_module_version": "1.2.0",
            "_model_name": "LayoutModel",
            "_view_count": null,
            "_view_module": "@jupyter-widgets/base",
            "_view_module_version": "1.2.0",
            "_view_name": "LayoutView",
            "align_content": null,
            "align_items": null,
            "align_self": null,
            "border": null,
            "bottom": null,
            "display": null,
            "flex": null,
            "flex_flow": null,
            "grid_area": null,
            "grid_auto_columns": null,
            "grid_auto_flow": null,
            "grid_auto_rows": null,
            "grid_column": null,
            "grid_gap": null,
            "grid_row": null,
            "grid_template_areas": null,
            "grid_template_columns": null,
            "grid_template_rows": null,
            "height": null,
            "justify_content": null,
            "justify_items": null,
            "left": null,
            "margin": null,
            "max_height": null,
            "max_width": null,
            "min_height": null,
            "min_width": null,
            "object_fit": null,
            "object_position": null,
            "order": null,
            "overflow": null,
            "overflow_x": null,
            "overflow_y": null,
            "padding": null,
            "right": null,
            "top": null,
            "visibility": null,
            "width": null
          }
        },
        "d60d82c9fe88463798329a7c98a971ba": {
          "model_module": "@jupyter-widgets/controls",
          "model_name": "DescriptionStyleModel",
          "model_module_version": "1.5.0",
          "state": {
            "_model_module": "@jupyter-widgets/controls",
            "_model_module_version": "1.5.0",
            "_model_name": "DescriptionStyleModel",
            "_view_count": null,
            "_view_module": "@jupyter-widgets/base",
            "_view_module_version": "1.2.0",
            "_view_name": "StyleView",
            "description_width": ""
          }
        },
        "267ecea189d14c80a0e3bb19301af5dc": {
          "model_module": "@jupyter-widgets/base",
          "model_name": "LayoutModel",
          "model_module_version": "1.2.0",
          "state": {
            "_model_module": "@jupyter-widgets/base",
            "_model_module_version": "1.2.0",
            "_model_name": "LayoutModel",
            "_view_count": null,
            "_view_module": "@jupyter-widgets/base",
            "_view_module_version": "1.2.0",
            "_view_name": "LayoutView",
            "align_content": null,
            "align_items": null,
            "align_self": null,
            "border": null,
            "bottom": null,
            "display": null,
            "flex": null,
            "flex_flow": null,
            "grid_area": null,
            "grid_auto_columns": null,
            "grid_auto_flow": null,
            "grid_auto_rows": null,
            "grid_column": null,
            "grid_gap": null,
            "grid_row": null,
            "grid_template_areas": null,
            "grid_template_columns": null,
            "grid_template_rows": null,
            "height": null,
            "justify_content": null,
            "justify_items": null,
            "left": null,
            "margin": null,
            "max_height": null,
            "max_width": null,
            "min_height": null,
            "min_width": null,
            "object_fit": null,
            "object_position": null,
            "order": null,
            "overflow": null,
            "overflow_x": null,
            "overflow_y": null,
            "padding": null,
            "right": null,
            "top": null,
            "visibility": null,
            "width": null
          }
        },
        "a3fa64add19d4ad1807908602ddf79bb": {
          "model_module": "@jupyter-widgets/controls",
          "model_name": "ProgressStyleModel",
          "model_module_version": "1.5.0",
          "state": {
            "_model_module": "@jupyter-widgets/controls",
            "_model_module_version": "1.5.0",
            "_model_name": "ProgressStyleModel",
            "_view_count": null,
            "_view_module": "@jupyter-widgets/base",
            "_view_module_version": "1.2.0",
            "_view_name": "StyleView",
            "bar_color": null,
            "description_width": ""
          }
        },
        "da1968d888024a0e86645b0ac570fddb": {
          "model_module": "@jupyter-widgets/base",
          "model_name": "LayoutModel",
          "model_module_version": "1.2.0",
          "state": {
            "_model_module": "@jupyter-widgets/base",
            "_model_module_version": "1.2.0",
            "_model_name": "LayoutModel",
            "_view_count": null,
            "_view_module": "@jupyter-widgets/base",
            "_view_module_version": "1.2.0",
            "_view_name": "LayoutView",
            "align_content": null,
            "align_items": null,
            "align_self": null,
            "border": null,
            "bottom": null,
            "display": null,
            "flex": null,
            "flex_flow": null,
            "grid_area": null,
            "grid_auto_columns": null,
            "grid_auto_flow": null,
            "grid_auto_rows": null,
            "grid_column": null,
            "grid_gap": null,
            "grid_row": null,
            "grid_template_areas": null,
            "grid_template_columns": null,
            "grid_template_rows": null,
            "height": null,
            "justify_content": null,
            "justify_items": null,
            "left": null,
            "margin": null,
            "max_height": null,
            "max_width": null,
            "min_height": null,
            "min_width": null,
            "object_fit": null,
            "object_position": null,
            "order": null,
            "overflow": null,
            "overflow_x": null,
            "overflow_y": null,
            "padding": null,
            "right": null,
            "top": null,
            "visibility": null,
            "width": null
          }
        },
        "304e03e55c404eb18fc02b60b3dd1901": {
          "model_module": "@jupyter-widgets/controls",
          "model_name": "DescriptionStyleModel",
          "model_module_version": "1.5.0",
          "state": {
            "_model_module": "@jupyter-widgets/controls",
            "_model_module_version": "1.5.0",
            "_model_name": "DescriptionStyleModel",
            "_view_count": null,
            "_view_module": "@jupyter-widgets/base",
            "_view_module_version": "1.2.0",
            "_view_name": "StyleView",
            "description_width": ""
          }
        },
        "726cadbeb66347c9a89dc8b072a75afc": {
          "model_module": "@jupyter-widgets/controls",
          "model_name": "HBoxModel",
          "model_module_version": "1.5.0",
          "state": {
            "_dom_classes": [],
            "_model_module": "@jupyter-widgets/controls",
            "_model_module_version": "1.5.0",
            "_model_name": "HBoxModel",
            "_view_count": null,
            "_view_module": "@jupyter-widgets/controls",
            "_view_module_version": "1.5.0",
            "_view_name": "HBoxView",
            "box_style": "",
            "children": [
              "IPY_MODEL_c0dd8a501158424a98b8db03c7327c08",
              "IPY_MODEL_9fbd392822b44299b3616b28ee8e9969",
              "IPY_MODEL_c2651452768a45abbc64e41140b09399"
            ],
            "layout": "IPY_MODEL_bbd604fe64dd4793b63b294bf7a1470e"
          }
        },
        "c0dd8a501158424a98b8db03c7327c08": {
          "model_module": "@jupyter-widgets/controls",
          "model_name": "HTMLModel",
          "model_module_version": "1.5.0",
          "state": {
            "_dom_classes": [],
            "_model_module": "@jupyter-widgets/controls",
            "_model_module_version": "1.5.0",
            "_model_name": "HTMLModel",
            "_view_count": null,
            "_view_module": "@jupyter-widgets/controls",
            "_view_module_version": "1.5.0",
            "_view_name": "HTMLView",
            "description": "",
            "description_tooltip": null,
            "layout": "IPY_MODEL_b26eb89ea07d45bda1306de2209f864a",
            "placeholder": "​",
            "style": "IPY_MODEL_11d8875eb9ea411b9a02f937dde43ada",
            "value": "100%"
          }
        },
        "9fbd392822b44299b3616b28ee8e9969": {
          "model_module": "@jupyter-widgets/controls",
          "model_name": "FloatProgressModel",
          "model_module_version": "1.5.0",
          "state": {
            "_dom_classes": [],
            "_model_module": "@jupyter-widgets/controls",
            "_model_module_version": "1.5.0",
            "_model_name": "FloatProgressModel",
            "_view_count": null,
            "_view_module": "@jupyter-widgets/controls",
            "_view_module_version": "1.5.0",
            "_view_name": "ProgressView",
            "bar_style": "success",
            "description": "",
            "description_tooltip": null,
            "layout": "IPY_MODEL_1653d401f3584da1ae4997e768288793",
            "max": 28881,
            "min": 0,
            "orientation": "horizontal",
            "style": "IPY_MODEL_5c0c93c6769a4dffaa3dcb8d4c65b4b0",
            "value": 28881
          }
        },
        "c2651452768a45abbc64e41140b09399": {
          "model_module": "@jupyter-widgets/controls",
          "model_name": "HTMLModel",
          "model_module_version": "1.5.0",
          "state": {
            "_dom_classes": [],
            "_model_module": "@jupyter-widgets/controls",
            "_model_module_version": "1.5.0",
            "_model_name": "HTMLModel",
            "_view_count": null,
            "_view_module": "@jupyter-widgets/controls",
            "_view_module_version": "1.5.0",
            "_view_name": "HTMLView",
            "description": "",
            "description_tooltip": null,
            "layout": "IPY_MODEL_0a95d1ed2878453fbf6b5f697676f548",
            "placeholder": "​",
            "style": "IPY_MODEL_f7704649d1e94aeb9f3bd703164e61de",
            "value": " 28881/28881 [00:00&lt;00:00, 692817.60it/s]"
          }
        },
        "bbd604fe64dd4793b63b294bf7a1470e": {
          "model_module": "@jupyter-widgets/base",
          "model_name": "LayoutModel",
          "model_module_version": "1.2.0",
          "state": {
            "_model_module": "@jupyter-widgets/base",
            "_model_module_version": "1.2.0",
            "_model_name": "LayoutModel",
            "_view_count": null,
            "_view_module": "@jupyter-widgets/base",
            "_view_module_version": "1.2.0",
            "_view_name": "LayoutView",
            "align_content": null,
            "align_items": null,
            "align_self": null,
            "border": null,
            "bottom": null,
            "display": null,
            "flex": null,
            "flex_flow": null,
            "grid_area": null,
            "grid_auto_columns": null,
            "grid_auto_flow": null,
            "grid_auto_rows": null,
            "grid_column": null,
            "grid_gap": null,
            "grid_row": null,
            "grid_template_areas": null,
            "grid_template_columns": null,
            "grid_template_rows": null,
            "height": null,
            "justify_content": null,
            "justify_items": null,
            "left": null,
            "margin": null,
            "max_height": null,
            "max_width": null,
            "min_height": null,
            "min_width": null,
            "object_fit": null,
            "object_position": null,
            "order": null,
            "overflow": null,
            "overflow_x": null,
            "overflow_y": null,
            "padding": null,
            "right": null,
            "top": null,
            "visibility": null,
            "width": null
          }
        },
        "b26eb89ea07d45bda1306de2209f864a": {
          "model_module": "@jupyter-widgets/base",
          "model_name": "LayoutModel",
          "model_module_version": "1.2.0",
          "state": {
            "_model_module": "@jupyter-widgets/base",
            "_model_module_version": "1.2.0",
            "_model_name": "LayoutModel",
            "_view_count": null,
            "_view_module": "@jupyter-widgets/base",
            "_view_module_version": "1.2.0",
            "_view_name": "LayoutView",
            "align_content": null,
            "align_items": null,
            "align_self": null,
            "border": null,
            "bottom": null,
            "display": null,
            "flex": null,
            "flex_flow": null,
            "grid_area": null,
            "grid_auto_columns": null,
            "grid_auto_flow": null,
            "grid_auto_rows": null,
            "grid_column": null,
            "grid_gap": null,
            "grid_row": null,
            "grid_template_areas": null,
            "grid_template_columns": null,
            "grid_template_rows": null,
            "height": null,
            "justify_content": null,
            "justify_items": null,
            "left": null,
            "margin": null,
            "max_height": null,
            "max_width": null,
            "min_height": null,
            "min_width": null,
            "object_fit": null,
            "object_position": null,
            "order": null,
            "overflow": null,
            "overflow_x": null,
            "overflow_y": null,
            "padding": null,
            "right": null,
            "top": null,
            "visibility": null,
            "width": null
          }
        },
        "11d8875eb9ea411b9a02f937dde43ada": {
          "model_module": "@jupyter-widgets/controls",
          "model_name": "DescriptionStyleModel",
          "model_module_version": "1.5.0",
          "state": {
            "_model_module": "@jupyter-widgets/controls",
            "_model_module_version": "1.5.0",
            "_model_name": "DescriptionStyleModel",
            "_view_count": null,
            "_view_module": "@jupyter-widgets/base",
            "_view_module_version": "1.2.0",
            "_view_name": "StyleView",
            "description_width": ""
          }
        },
        "1653d401f3584da1ae4997e768288793": {
          "model_module": "@jupyter-widgets/base",
          "model_name": "LayoutModel",
          "model_module_version": "1.2.0",
          "state": {
            "_model_module": "@jupyter-widgets/base",
            "_model_module_version": "1.2.0",
            "_model_name": "LayoutModel",
            "_view_count": null,
            "_view_module": "@jupyter-widgets/base",
            "_view_module_version": "1.2.0",
            "_view_name": "LayoutView",
            "align_content": null,
            "align_items": null,
            "align_self": null,
            "border": null,
            "bottom": null,
            "display": null,
            "flex": null,
            "flex_flow": null,
            "grid_area": null,
            "grid_auto_columns": null,
            "grid_auto_flow": null,
            "grid_auto_rows": null,
            "grid_column": null,
            "grid_gap": null,
            "grid_row": null,
            "grid_template_areas": null,
            "grid_template_columns": null,
            "grid_template_rows": null,
            "height": null,
            "justify_content": null,
            "justify_items": null,
            "left": null,
            "margin": null,
            "max_height": null,
            "max_width": null,
            "min_height": null,
            "min_width": null,
            "object_fit": null,
            "object_position": null,
            "order": null,
            "overflow": null,
            "overflow_x": null,
            "overflow_y": null,
            "padding": null,
            "right": null,
            "top": null,
            "visibility": null,
            "width": null
          }
        },
        "5c0c93c6769a4dffaa3dcb8d4c65b4b0": {
          "model_module": "@jupyter-widgets/controls",
          "model_name": "ProgressStyleModel",
          "model_module_version": "1.5.0",
          "state": {
            "_model_module": "@jupyter-widgets/controls",
            "_model_module_version": "1.5.0",
            "_model_name": "ProgressStyleModel",
            "_view_count": null,
            "_view_module": "@jupyter-widgets/base",
            "_view_module_version": "1.2.0",
            "_view_name": "StyleView",
            "bar_color": null,
            "description_width": ""
          }
        },
        "0a95d1ed2878453fbf6b5f697676f548": {
          "model_module": "@jupyter-widgets/base",
          "model_name": "LayoutModel",
          "model_module_version": "1.2.0",
          "state": {
            "_model_module": "@jupyter-widgets/base",
            "_model_module_version": "1.2.0",
            "_model_name": "LayoutModel",
            "_view_count": null,
            "_view_module": "@jupyter-widgets/base",
            "_view_module_version": "1.2.0",
            "_view_name": "LayoutView",
            "align_content": null,
            "align_items": null,
            "align_self": null,
            "border": null,
            "bottom": null,
            "display": null,
            "flex": null,
            "flex_flow": null,
            "grid_area": null,
            "grid_auto_columns": null,
            "grid_auto_flow": null,
            "grid_auto_rows": null,
            "grid_column": null,
            "grid_gap": null,
            "grid_row": null,
            "grid_template_areas": null,
            "grid_template_columns": null,
            "grid_template_rows": null,
            "height": null,
            "justify_content": null,
            "justify_items": null,
            "left": null,
            "margin": null,
            "max_height": null,
            "max_width": null,
            "min_height": null,
            "min_width": null,
            "object_fit": null,
            "object_position": null,
            "order": null,
            "overflow": null,
            "overflow_x": null,
            "overflow_y": null,
            "padding": null,
            "right": null,
            "top": null,
            "visibility": null,
            "width": null
          }
        },
        "f7704649d1e94aeb9f3bd703164e61de": {
          "model_module": "@jupyter-widgets/controls",
          "model_name": "DescriptionStyleModel",
          "model_module_version": "1.5.0",
          "state": {
            "_model_module": "@jupyter-widgets/controls",
            "_model_module_version": "1.5.0",
            "_model_name": "DescriptionStyleModel",
            "_view_count": null,
            "_view_module": "@jupyter-widgets/base",
            "_view_module_version": "1.2.0",
            "_view_name": "StyleView",
            "description_width": ""
          }
        },
        "80749c8c68264345b9a1fe395418aa61": {
          "model_module": "@jupyter-widgets/controls",
          "model_name": "HBoxModel",
          "model_module_version": "1.5.0",
          "state": {
            "_dom_classes": [],
            "_model_module": "@jupyter-widgets/controls",
            "_model_module_version": "1.5.0",
            "_model_name": "HBoxModel",
            "_view_count": null,
            "_view_module": "@jupyter-widgets/controls",
            "_view_module_version": "1.5.0",
            "_view_name": "HBoxView",
            "box_style": "",
            "children": [
              "IPY_MODEL_fcbadb903d254092abe0fd492251241d",
              "IPY_MODEL_7f51c86a370b460ba44e067940421ec1",
              "IPY_MODEL_26d9e1ddff6b4580bd78037f9d46e999"
            ],
            "layout": "IPY_MODEL_e03d6cde5e3345cb999ce0efe23f5aa0"
          }
        },
        "fcbadb903d254092abe0fd492251241d": {
          "model_module": "@jupyter-widgets/controls",
          "model_name": "HTMLModel",
          "model_module_version": "1.5.0",
          "state": {
            "_dom_classes": [],
            "_model_module": "@jupyter-widgets/controls",
            "_model_module_version": "1.5.0",
            "_model_name": "HTMLModel",
            "_view_count": null,
            "_view_module": "@jupyter-widgets/controls",
            "_view_module_version": "1.5.0",
            "_view_name": "HTMLView",
            "description": "",
            "description_tooltip": null,
            "layout": "IPY_MODEL_39bf3f353d0b404295196e2d78ec4285",
            "placeholder": "​",
            "style": "IPY_MODEL_ef4f6fa7a38b46dfa82b624367e8b232",
            "value": "100%"
          }
        },
        "7f51c86a370b460ba44e067940421ec1": {
          "model_module": "@jupyter-widgets/controls",
          "model_name": "FloatProgressModel",
          "model_module_version": "1.5.0",
          "state": {
            "_dom_classes": [],
            "_model_module": "@jupyter-widgets/controls",
            "_model_module_version": "1.5.0",
            "_model_name": "FloatProgressModel",
            "_view_count": null,
            "_view_module": "@jupyter-widgets/controls",
            "_view_module_version": "1.5.0",
            "_view_name": "ProgressView",
            "bar_style": "success",
            "description": "",
            "description_tooltip": null,
            "layout": "IPY_MODEL_155f59cf20bf4bde80807be9e4d575c6",
            "max": 1648877,
            "min": 0,
            "orientation": "horizontal",
            "style": "IPY_MODEL_0cd2ba0a2613419ca49eff67545591ad",
            "value": 1648877
          }
        },
        "26d9e1ddff6b4580bd78037f9d46e999": {
          "model_module": "@jupyter-widgets/controls",
          "model_name": "HTMLModel",
          "model_module_version": "1.5.0",
          "state": {
            "_dom_classes": [],
            "_model_module": "@jupyter-widgets/controls",
            "_model_module_version": "1.5.0",
            "_model_name": "HTMLModel",
            "_view_count": null,
            "_view_module": "@jupyter-widgets/controls",
            "_view_module_version": "1.5.0",
            "_view_name": "HTMLView",
            "description": "",
            "description_tooltip": null,
            "layout": "IPY_MODEL_cf34cf8053124fb4ad3c694a8cf724e3",
            "placeholder": "​",
            "style": "IPY_MODEL_2ec8a49f51dd4b4dbce240ccf036e9c3",
            "value": " 1648877/1648877 [00:00&lt;00:00, 25412710.95it/s]"
          }
        },
        "e03d6cde5e3345cb999ce0efe23f5aa0": {
          "model_module": "@jupyter-widgets/base",
          "model_name": "LayoutModel",
          "model_module_version": "1.2.0",
          "state": {
            "_model_module": "@jupyter-widgets/base",
            "_model_module_version": "1.2.0",
            "_model_name": "LayoutModel",
            "_view_count": null,
            "_view_module": "@jupyter-widgets/base",
            "_view_module_version": "1.2.0",
            "_view_name": "LayoutView",
            "align_content": null,
            "align_items": null,
            "align_self": null,
            "border": null,
            "bottom": null,
            "display": null,
            "flex": null,
            "flex_flow": null,
            "grid_area": null,
            "grid_auto_columns": null,
            "grid_auto_flow": null,
            "grid_auto_rows": null,
            "grid_column": null,
            "grid_gap": null,
            "grid_row": null,
            "grid_template_areas": null,
            "grid_template_columns": null,
            "grid_template_rows": null,
            "height": null,
            "justify_content": null,
            "justify_items": null,
            "left": null,
            "margin": null,
            "max_height": null,
            "max_width": null,
            "min_height": null,
            "min_width": null,
            "object_fit": null,
            "object_position": null,
            "order": null,
            "overflow": null,
            "overflow_x": null,
            "overflow_y": null,
            "padding": null,
            "right": null,
            "top": null,
            "visibility": null,
            "width": null
          }
        },
        "39bf3f353d0b404295196e2d78ec4285": {
          "model_module": "@jupyter-widgets/base",
          "model_name": "LayoutModel",
          "model_module_version": "1.2.0",
          "state": {
            "_model_module": "@jupyter-widgets/base",
            "_model_module_version": "1.2.0",
            "_model_name": "LayoutModel",
            "_view_count": null,
            "_view_module": "@jupyter-widgets/base",
            "_view_module_version": "1.2.0",
            "_view_name": "LayoutView",
            "align_content": null,
            "align_items": null,
            "align_self": null,
            "border": null,
            "bottom": null,
            "display": null,
            "flex": null,
            "flex_flow": null,
            "grid_area": null,
            "grid_auto_columns": null,
            "grid_auto_flow": null,
            "grid_auto_rows": null,
            "grid_column": null,
            "grid_gap": null,
            "grid_row": null,
            "grid_template_areas": null,
            "grid_template_columns": null,
            "grid_template_rows": null,
            "height": null,
            "justify_content": null,
            "justify_items": null,
            "left": null,
            "margin": null,
            "max_height": null,
            "max_width": null,
            "min_height": null,
            "min_width": null,
            "object_fit": null,
            "object_position": null,
            "order": null,
            "overflow": null,
            "overflow_x": null,
            "overflow_y": null,
            "padding": null,
            "right": null,
            "top": null,
            "visibility": null,
            "width": null
          }
        },
        "ef4f6fa7a38b46dfa82b624367e8b232": {
          "model_module": "@jupyter-widgets/controls",
          "model_name": "DescriptionStyleModel",
          "model_module_version": "1.5.0",
          "state": {
            "_model_module": "@jupyter-widgets/controls",
            "_model_module_version": "1.5.0",
            "_model_name": "DescriptionStyleModel",
            "_view_count": null,
            "_view_module": "@jupyter-widgets/base",
            "_view_module_version": "1.2.0",
            "_view_name": "StyleView",
            "description_width": ""
          }
        },
        "155f59cf20bf4bde80807be9e4d575c6": {
          "model_module": "@jupyter-widgets/base",
          "model_name": "LayoutModel",
          "model_module_version": "1.2.0",
          "state": {
            "_model_module": "@jupyter-widgets/base",
            "_model_module_version": "1.2.0",
            "_model_name": "LayoutModel",
            "_view_count": null,
            "_view_module": "@jupyter-widgets/base",
            "_view_module_version": "1.2.0",
            "_view_name": "LayoutView",
            "align_content": null,
            "align_items": null,
            "align_self": null,
            "border": null,
            "bottom": null,
            "display": null,
            "flex": null,
            "flex_flow": null,
            "grid_area": null,
            "grid_auto_columns": null,
            "grid_auto_flow": null,
            "grid_auto_rows": null,
            "grid_column": null,
            "grid_gap": null,
            "grid_row": null,
            "grid_template_areas": null,
            "grid_template_columns": null,
            "grid_template_rows": null,
            "height": null,
            "justify_content": null,
            "justify_items": null,
            "left": null,
            "margin": null,
            "max_height": null,
            "max_width": null,
            "min_height": null,
            "min_width": null,
            "object_fit": null,
            "object_position": null,
            "order": null,
            "overflow": null,
            "overflow_x": null,
            "overflow_y": null,
            "padding": null,
            "right": null,
            "top": null,
            "visibility": null,
            "width": null
          }
        },
        "0cd2ba0a2613419ca49eff67545591ad": {
          "model_module": "@jupyter-widgets/controls",
          "model_name": "ProgressStyleModel",
          "model_module_version": "1.5.0",
          "state": {
            "_model_module": "@jupyter-widgets/controls",
            "_model_module_version": "1.5.0",
            "_model_name": "ProgressStyleModel",
            "_view_count": null,
            "_view_module": "@jupyter-widgets/base",
            "_view_module_version": "1.2.0",
            "_view_name": "StyleView",
            "bar_color": null,
            "description_width": ""
          }
        },
        "cf34cf8053124fb4ad3c694a8cf724e3": {
          "model_module": "@jupyter-widgets/base",
          "model_name": "LayoutModel",
          "model_module_version": "1.2.0",
          "state": {
            "_model_module": "@jupyter-widgets/base",
            "_model_module_version": "1.2.0",
            "_model_name": "LayoutModel",
            "_view_count": null,
            "_view_module": "@jupyter-widgets/base",
            "_view_module_version": "1.2.0",
            "_view_name": "LayoutView",
            "align_content": null,
            "align_items": null,
            "align_self": null,
            "border": null,
            "bottom": null,
            "display": null,
            "flex": null,
            "flex_flow": null,
            "grid_area": null,
            "grid_auto_columns": null,
            "grid_auto_flow": null,
            "grid_auto_rows": null,
            "grid_column": null,
            "grid_gap": null,
            "grid_row": null,
            "grid_template_areas": null,
            "grid_template_columns": null,
            "grid_template_rows": null,
            "height": null,
            "justify_content": null,
            "justify_items": null,
            "left": null,
            "margin": null,
            "max_height": null,
            "max_width": null,
            "min_height": null,
            "min_width": null,
            "object_fit": null,
            "object_position": null,
            "order": null,
            "overflow": null,
            "overflow_x": null,
            "overflow_y": null,
            "padding": null,
            "right": null,
            "top": null,
            "visibility": null,
            "width": null
          }
        },
        "2ec8a49f51dd4b4dbce240ccf036e9c3": {
          "model_module": "@jupyter-widgets/controls",
          "model_name": "DescriptionStyleModel",
          "model_module_version": "1.5.0",
          "state": {
            "_model_module": "@jupyter-widgets/controls",
            "_model_module_version": "1.5.0",
            "_model_name": "DescriptionStyleModel",
            "_view_count": null,
            "_view_module": "@jupyter-widgets/base",
            "_view_module_version": "1.2.0",
            "_view_name": "StyleView",
            "description_width": ""
          }
        },
        "10aac0528104452ab1903ca9a01e506d": {
          "model_module": "@jupyter-widgets/controls",
          "model_name": "HBoxModel",
          "model_module_version": "1.5.0",
          "state": {
            "_dom_classes": [],
            "_model_module": "@jupyter-widgets/controls",
            "_model_module_version": "1.5.0",
            "_model_name": "HBoxModel",
            "_view_count": null,
            "_view_module": "@jupyter-widgets/controls",
            "_view_module_version": "1.5.0",
            "_view_name": "HBoxView",
            "box_style": "",
            "children": [
              "IPY_MODEL_1033d58ff06d4c648a445b79de8c6ef1",
              "IPY_MODEL_3029d8db592f41018bb1de0853721a6d",
              "IPY_MODEL_6c5a840007754aecb0c00fb1f7d6c9de"
            ],
            "layout": "IPY_MODEL_600d8d22e1e445d7af75abc52c53cd18"
          }
        },
        "1033d58ff06d4c648a445b79de8c6ef1": {
          "model_module": "@jupyter-widgets/controls",
          "model_name": "HTMLModel",
          "model_module_version": "1.5.0",
          "state": {
            "_dom_classes": [],
            "_model_module": "@jupyter-widgets/controls",
            "_model_module_version": "1.5.0",
            "_model_name": "HTMLModel",
            "_view_count": null,
            "_view_module": "@jupyter-widgets/controls",
            "_view_module_version": "1.5.0",
            "_view_name": "HTMLView",
            "description": "",
            "description_tooltip": null,
            "layout": "IPY_MODEL_3c08e85b564040e899b8f55e12c642c9",
            "placeholder": "​",
            "style": "IPY_MODEL_9d17ed2ac50047cebf5012accd51e264",
            "value": "100%"
          }
        },
        "3029d8db592f41018bb1de0853721a6d": {
          "model_module": "@jupyter-widgets/controls",
          "model_name": "FloatProgressModel",
          "model_module_version": "1.5.0",
          "state": {
            "_dom_classes": [],
            "_model_module": "@jupyter-widgets/controls",
            "_model_module_version": "1.5.0",
            "_model_name": "FloatProgressModel",
            "_view_count": null,
            "_view_module": "@jupyter-widgets/controls",
            "_view_module_version": "1.5.0",
            "_view_name": "ProgressView",
            "bar_style": "success",
            "description": "",
            "description_tooltip": null,
            "layout": "IPY_MODEL_625a6e60b64e499ba4021aadb949e342",
            "max": 4542,
            "min": 0,
            "orientation": "horizontal",
            "style": "IPY_MODEL_ccff3f6b3e8d448c9f3abffb65eaaa19",
            "value": 4542
          }
        },
        "6c5a840007754aecb0c00fb1f7d6c9de": {
          "model_module": "@jupyter-widgets/controls",
          "model_name": "HTMLModel",
          "model_module_version": "1.5.0",
          "state": {
            "_dom_classes": [],
            "_model_module": "@jupyter-widgets/controls",
            "_model_module_version": "1.5.0",
            "_model_name": "HTMLModel",
            "_view_count": null,
            "_view_module": "@jupyter-widgets/controls",
            "_view_module_version": "1.5.0",
            "_view_name": "HTMLView",
            "description": "",
            "description_tooltip": null,
            "layout": "IPY_MODEL_c388f4450e2b4a91805cbd413e4ab8ba",
            "placeholder": "​",
            "style": "IPY_MODEL_f4d932ee28dc42cf8aca6345864b3c0f",
            "value": " 4542/4542 [00:00&lt;00:00, 88135.28it/s]"
          }
        },
        "600d8d22e1e445d7af75abc52c53cd18": {
          "model_module": "@jupyter-widgets/base",
          "model_name": "LayoutModel",
          "model_module_version": "1.2.0",
          "state": {
            "_model_module": "@jupyter-widgets/base",
            "_model_module_version": "1.2.0",
            "_model_name": "LayoutModel",
            "_view_count": null,
            "_view_module": "@jupyter-widgets/base",
            "_view_module_version": "1.2.0",
            "_view_name": "LayoutView",
            "align_content": null,
            "align_items": null,
            "align_self": null,
            "border": null,
            "bottom": null,
            "display": null,
            "flex": null,
            "flex_flow": null,
            "grid_area": null,
            "grid_auto_columns": null,
            "grid_auto_flow": null,
            "grid_auto_rows": null,
            "grid_column": null,
            "grid_gap": null,
            "grid_row": null,
            "grid_template_areas": null,
            "grid_template_columns": null,
            "grid_template_rows": null,
            "height": null,
            "justify_content": null,
            "justify_items": null,
            "left": null,
            "margin": null,
            "max_height": null,
            "max_width": null,
            "min_height": null,
            "min_width": null,
            "object_fit": null,
            "object_position": null,
            "order": null,
            "overflow": null,
            "overflow_x": null,
            "overflow_y": null,
            "padding": null,
            "right": null,
            "top": null,
            "visibility": null,
            "width": null
          }
        },
        "3c08e85b564040e899b8f55e12c642c9": {
          "model_module": "@jupyter-widgets/base",
          "model_name": "LayoutModel",
          "model_module_version": "1.2.0",
          "state": {
            "_model_module": "@jupyter-widgets/base",
            "_model_module_version": "1.2.0",
            "_model_name": "LayoutModel",
            "_view_count": null,
            "_view_module": "@jupyter-widgets/base",
            "_view_module_version": "1.2.0",
            "_view_name": "LayoutView",
            "align_content": null,
            "align_items": null,
            "align_self": null,
            "border": null,
            "bottom": null,
            "display": null,
            "flex": null,
            "flex_flow": null,
            "grid_area": null,
            "grid_auto_columns": null,
            "grid_auto_flow": null,
            "grid_auto_rows": null,
            "grid_column": null,
            "grid_gap": null,
            "grid_row": null,
            "grid_template_areas": null,
            "grid_template_columns": null,
            "grid_template_rows": null,
            "height": null,
            "justify_content": null,
            "justify_items": null,
            "left": null,
            "margin": null,
            "max_height": null,
            "max_width": null,
            "min_height": null,
            "min_width": null,
            "object_fit": null,
            "object_position": null,
            "order": null,
            "overflow": null,
            "overflow_x": null,
            "overflow_y": null,
            "padding": null,
            "right": null,
            "top": null,
            "visibility": null,
            "width": null
          }
        },
        "9d17ed2ac50047cebf5012accd51e264": {
          "model_module": "@jupyter-widgets/controls",
          "model_name": "DescriptionStyleModel",
          "model_module_version": "1.5.0",
          "state": {
            "_model_module": "@jupyter-widgets/controls",
            "_model_module_version": "1.5.0",
            "_model_name": "DescriptionStyleModel",
            "_view_count": null,
            "_view_module": "@jupyter-widgets/base",
            "_view_module_version": "1.2.0",
            "_view_name": "StyleView",
            "description_width": ""
          }
        },
        "625a6e60b64e499ba4021aadb949e342": {
          "model_module": "@jupyter-widgets/base",
          "model_name": "LayoutModel",
          "model_module_version": "1.2.0",
          "state": {
            "_model_module": "@jupyter-widgets/base",
            "_model_module_version": "1.2.0",
            "_model_name": "LayoutModel",
            "_view_count": null,
            "_view_module": "@jupyter-widgets/base",
            "_view_module_version": "1.2.0",
            "_view_name": "LayoutView",
            "align_content": null,
            "align_items": null,
            "align_self": null,
            "border": null,
            "bottom": null,
            "display": null,
            "flex": null,
            "flex_flow": null,
            "grid_area": null,
            "grid_auto_columns": null,
            "grid_auto_flow": null,
            "grid_auto_rows": null,
            "grid_column": null,
            "grid_gap": null,
            "grid_row": null,
            "grid_template_areas": null,
            "grid_template_columns": null,
            "grid_template_rows": null,
            "height": null,
            "justify_content": null,
            "justify_items": null,
            "left": null,
            "margin": null,
            "max_height": null,
            "max_width": null,
            "min_height": null,
            "min_width": null,
            "object_fit": null,
            "object_position": null,
            "order": null,
            "overflow": null,
            "overflow_x": null,
            "overflow_y": null,
            "padding": null,
            "right": null,
            "top": null,
            "visibility": null,
            "width": null
          }
        },
        "ccff3f6b3e8d448c9f3abffb65eaaa19": {
          "model_module": "@jupyter-widgets/controls",
          "model_name": "ProgressStyleModel",
          "model_module_version": "1.5.0",
          "state": {
            "_model_module": "@jupyter-widgets/controls",
            "_model_module_version": "1.5.0",
            "_model_name": "ProgressStyleModel",
            "_view_count": null,
            "_view_module": "@jupyter-widgets/base",
            "_view_module_version": "1.2.0",
            "_view_name": "StyleView",
            "bar_color": null,
            "description_width": ""
          }
        },
        "c388f4450e2b4a91805cbd413e4ab8ba": {
          "model_module": "@jupyter-widgets/base",
          "model_name": "LayoutModel",
          "model_module_version": "1.2.0",
          "state": {
            "_model_module": "@jupyter-widgets/base",
            "_model_module_version": "1.2.0",
            "_model_name": "LayoutModel",
            "_view_count": null,
            "_view_module": "@jupyter-widgets/base",
            "_view_module_version": "1.2.0",
            "_view_name": "LayoutView",
            "align_content": null,
            "align_items": null,
            "align_self": null,
            "border": null,
            "bottom": null,
            "display": null,
            "flex": null,
            "flex_flow": null,
            "grid_area": null,
            "grid_auto_columns": null,
            "grid_auto_flow": null,
            "grid_auto_rows": null,
            "grid_column": null,
            "grid_gap": null,
            "grid_row": null,
            "grid_template_areas": null,
            "grid_template_columns": null,
            "grid_template_rows": null,
            "height": null,
            "justify_content": null,
            "justify_items": null,
            "left": null,
            "margin": null,
            "max_height": null,
            "max_width": null,
            "min_height": null,
            "min_width": null,
            "object_fit": null,
            "object_position": null,
            "order": null,
            "overflow": null,
            "overflow_x": null,
            "overflow_y": null,
            "padding": null,
            "right": null,
            "top": null,
            "visibility": null,
            "width": null
          }
        },
        "f4d932ee28dc42cf8aca6345864b3c0f": {
          "model_module": "@jupyter-widgets/controls",
          "model_name": "DescriptionStyleModel",
          "model_module_version": "1.5.0",
          "state": {
            "_model_module": "@jupyter-widgets/controls",
            "_model_module_version": "1.5.0",
            "_model_name": "DescriptionStyleModel",
            "_view_count": null,
            "_view_module": "@jupyter-widgets/base",
            "_view_module_version": "1.2.0",
            "_view_name": "StyleView",
            "description_width": ""
          }
        }
      }
    }
  },
  "cells": [
    {
      "cell_type": "markdown",
      "metadata": {
        "id": "view-in-github",
        "colab_type": "text"
      },
      "source": [
        "<a href=\"https://colab.research.google.com/github/Banafshehkh/ComputerVision/blob/main/DL4Vision_A2.ipynb\" target=\"_parent\"><img src=\"https://colab.research.google.com/assets/colab-badge.svg\" alt=\"Open In Colab\"/></a>"
      ]
    },
    {
      "cell_type": "markdown",
      "source": [
        "# Assignment 2\n",
        "In this assignment, we will use a multi-layer perceptron network to build an image classifier for single digits. We will be using a public dataset for model development. The dataset we will be using is the MNIST digit dataset. The dataset contains 10 classes, where class `i` contains images of digit `i`."
      ],
      "metadata": {
        "id": "-_eG2sW1MQrV"
      }
    },
    {
      "cell_type": "markdown",
      "source": [
        "Source: https://nextjournal.com/gkoehler/pytorch-mnist\n",
        "\n",
        "https://www.projectpro.io/article/exploring-mnist-dataset-using-pytorch-to-train-an-mlp/408"
      ],
      "metadata": {
        "id": "L1n3FqPIXbyD"
      }
    },
    {
      "cell_type": "code",
      "execution_count": null,
      "metadata": {
        "id": "BOMls6CLGyUr"
      },
      "outputs": [],
      "source": [
        "import torch\n",
        "import torch.nn as nn\n",
        "import torchvision\n",
        "from torchvision import datasets\n",
        "from torch.utils.data import Dataset, DataLoader, random_split\n",
        "import numpy as np\n",
        "from torchvision import datasets, transforms\n",
        "import torch\n",
        "from torch.utils.data import Dataset\n",
        "from torchvision import datasets\n",
        "from torchvision.transforms import ToTensor\n",
        "import torch.nn.functional as F\n",
        "\n",
        "\n",
        "\n",
        "\n",
        "import matplotlib.pyplot as plt"
      ]
    },
    {
      "cell_type": "markdown",
      "source": [
        "####1. Create train_data and test_dataset objects using the MNIST digit dataset from torchvision.datasets module. (5 points)"
      ],
      "metadata": {
        "id": "Ao4fnByOPKmT"
      }
    },
    {
      "cell_type": "code",
      "source": [
        "train_data = torchvision.datasets.MNIST('data', train=True, download=True,\n",
        "                             transform=torchvision.transforms.Compose([\n",
        "                               torchvision.transforms.ToTensor(),\n",
        "                               torchvision.transforms.Normalize(\n",
        "                                 (0.1307,), (0.3081,))\n",
        "                             ]))\n",
        "\n",
        "\n",
        "\n",
        "\n",
        "test_data = torchvision.datasets.MNIST('data', train=False, download=True,\n",
        "                             transform=torchvision.transforms.Compose([\n",
        "                               torchvision.transforms.ToTensor(),\n",
        "                               torchvision.transforms.Normalize(\n",
        "                                 (0.1307,), (0.3081,))\n",
        "                             ]))"
      ],
      "metadata": {
        "id": "9tLsPKsAPJOu",
        "colab": {
          "base_uri": "https://localhost:8080/",
          "height": 423,
          "referenced_widgets": [
            "c851be12178e4bb0a7ecc67150c63abf",
            "4406af50bc2d4eba91db74651689231a",
            "c9a6c186c6dd4ed58e6974564b17d875",
            "7f9c17364fb74d08874abadf4f10b5fa",
            "699b3799f2cb45b08d2424eee480b760",
            "b9106a3544864667848dea0d3822ab01",
            "d60d82c9fe88463798329a7c98a971ba",
            "267ecea189d14c80a0e3bb19301af5dc",
            "a3fa64add19d4ad1807908602ddf79bb",
            "da1968d888024a0e86645b0ac570fddb",
            "304e03e55c404eb18fc02b60b3dd1901",
            "726cadbeb66347c9a89dc8b072a75afc",
            "c0dd8a501158424a98b8db03c7327c08",
            "9fbd392822b44299b3616b28ee8e9969",
            "c2651452768a45abbc64e41140b09399",
            "bbd604fe64dd4793b63b294bf7a1470e",
            "b26eb89ea07d45bda1306de2209f864a",
            "11d8875eb9ea411b9a02f937dde43ada",
            "1653d401f3584da1ae4997e768288793",
            "5c0c93c6769a4dffaa3dcb8d4c65b4b0",
            "0a95d1ed2878453fbf6b5f697676f548",
            "f7704649d1e94aeb9f3bd703164e61de",
            "80749c8c68264345b9a1fe395418aa61",
            "fcbadb903d254092abe0fd492251241d",
            "7f51c86a370b460ba44e067940421ec1",
            "26d9e1ddff6b4580bd78037f9d46e999",
            "e03d6cde5e3345cb999ce0efe23f5aa0",
            "39bf3f353d0b404295196e2d78ec4285",
            "ef4f6fa7a38b46dfa82b624367e8b232",
            "155f59cf20bf4bde80807be9e4d575c6",
            "0cd2ba0a2613419ca49eff67545591ad",
            "cf34cf8053124fb4ad3c694a8cf724e3",
            "2ec8a49f51dd4b4dbce240ccf036e9c3",
            "10aac0528104452ab1903ca9a01e506d",
            "1033d58ff06d4c648a445b79de8c6ef1",
            "3029d8db592f41018bb1de0853721a6d",
            "6c5a840007754aecb0c00fb1f7d6c9de",
            "600d8d22e1e445d7af75abc52c53cd18",
            "3c08e85b564040e899b8f55e12c642c9",
            "9d17ed2ac50047cebf5012accd51e264",
            "625a6e60b64e499ba4021aadb949e342",
            "ccff3f6b3e8d448c9f3abffb65eaaa19",
            "c388f4450e2b4a91805cbd413e4ab8ba",
            "f4d932ee28dc42cf8aca6345864b3c0f"
          ]
        },
        "outputId": "b90dc7ec-1b4f-4c70-dbc2-17161e7d4269"
      },
      "execution_count": null,
      "outputs": [
        {
          "output_type": "stream",
          "name": "stdout",
          "text": [
            "Downloading http://yann.lecun.com/exdb/mnist/train-images-idx3-ubyte.gz\n",
            "Downloading http://yann.lecun.com/exdb/mnist/train-images-idx3-ubyte.gz to data/MNIST/raw/train-images-idx3-ubyte.gz\n"
          ]
        },
        {
          "output_type": "display_data",
          "data": {
            "text/plain": [
              "  0%|          | 0/9912422 [00:00<?, ?it/s]"
            ],
            "application/vnd.jupyter.widget-view+json": {
              "version_major": 2,
              "version_minor": 0,
              "model_id": "c851be12178e4bb0a7ecc67150c63abf"
            }
          },
          "metadata": {}
        },
        {
          "output_type": "stream",
          "name": "stdout",
          "text": [
            "Extracting data/MNIST/raw/train-images-idx3-ubyte.gz to data/MNIST/raw\n",
            "\n",
            "Downloading http://yann.lecun.com/exdb/mnist/train-labels-idx1-ubyte.gz\n",
            "Downloading http://yann.lecun.com/exdb/mnist/train-labels-idx1-ubyte.gz to data/MNIST/raw/train-labels-idx1-ubyte.gz\n"
          ]
        },
        {
          "output_type": "display_data",
          "data": {
            "text/plain": [
              "  0%|          | 0/28881 [00:00<?, ?it/s]"
            ],
            "application/vnd.jupyter.widget-view+json": {
              "version_major": 2,
              "version_minor": 0,
              "model_id": "726cadbeb66347c9a89dc8b072a75afc"
            }
          },
          "metadata": {}
        },
        {
          "output_type": "stream",
          "name": "stdout",
          "text": [
            "Extracting data/MNIST/raw/train-labels-idx1-ubyte.gz to data/MNIST/raw\n",
            "\n",
            "Downloading http://yann.lecun.com/exdb/mnist/t10k-images-idx3-ubyte.gz\n",
            "Downloading http://yann.lecun.com/exdb/mnist/t10k-images-idx3-ubyte.gz to data/MNIST/raw/t10k-images-idx3-ubyte.gz\n"
          ]
        },
        {
          "output_type": "display_data",
          "data": {
            "text/plain": [
              "  0%|          | 0/1648877 [00:00<?, ?it/s]"
            ],
            "application/vnd.jupyter.widget-view+json": {
              "version_major": 2,
              "version_minor": 0,
              "model_id": "80749c8c68264345b9a1fe395418aa61"
            }
          },
          "metadata": {}
        },
        {
          "output_type": "stream",
          "name": "stdout",
          "text": [
            "Extracting data/MNIST/raw/t10k-images-idx3-ubyte.gz to data/MNIST/raw\n",
            "\n",
            "Downloading http://yann.lecun.com/exdb/mnist/t10k-labels-idx1-ubyte.gz\n",
            "Downloading http://yann.lecun.com/exdb/mnist/t10k-labels-idx1-ubyte.gz to data/MNIST/raw/t10k-labels-idx1-ubyte.gz\n"
          ]
        },
        {
          "output_type": "display_data",
          "data": {
            "text/plain": [
              "  0%|          | 0/4542 [00:00<?, ?it/s]"
            ],
            "application/vnd.jupyter.widget-view+json": {
              "version_major": 2,
              "version_minor": 0,
              "model_id": "10aac0528104452ab1903ca9a01e506d"
            }
          },
          "metadata": {}
        },
        {
          "output_type": "stream",
          "name": "stdout",
          "text": [
            "Extracting data/MNIST/raw/t10k-labels-idx1-ubyte.gz to data/MNIST/raw\n",
            "\n"
          ]
        }
      ]
    },
    {
      "cell_type": "code",
      "source": [
        "image, label = train_data[0]\n",
        "print(\"image shape:\", image.shape, \"\\n\", \"image label:\", label)"
      ],
      "metadata": {
        "colab": {
          "base_uri": "https://localhost:8080/"
        },
        "id": "Ev9uzuM8WayA",
        "outputId": "6978b6a7-275c-4909-d533-c063a9db799c"
      },
      "execution_count": null,
      "outputs": [
        {
          "output_type": "stream",
          "name": "stdout",
          "text": [
            "image shape: torch.Size([1, 28, 28]) \n",
            " image label: 5\n"
          ]
        }
      ]
    },
    {
      "cell_type": "code",
      "source": [
        "from matplotlib.pyplot import figure\n",
        "\n",
        "\n",
        "def visulaize(image, label):\n",
        "  \n",
        "  figure(figsize=(15, 8), dpi=80)\n",
        "  plt.figure()\n",
        "  plt.imshow(image.numpy()[0], cmap = 'gray')\n",
        "  plt.title(str(label))\n",
        "  plt.xticks([])\n",
        "  plt.yticks([])"
      ],
      "metadata": {
        "id": "2e5oU8DDW9-P"
      },
      "execution_count": null,
      "outputs": []
    },
    {
      "cell_type": "code",
      "source": [
        "visulaize(image, label) # first image with its label"
      ],
      "metadata": {
        "colab": {
          "base_uri": "https://localhost:8080/",
          "height": 285
        },
        "id": "OxccdsRXXJ6i",
        "outputId": "533947a4-457e-4edc-b9d0-0d9850500c75"
      },
      "execution_count": null,
      "outputs": [
        {
          "output_type": "display_data",
          "data": {
            "text/plain": [
              "<Figure size 1200x640 with 0 Axes>"
            ]
          },
          "metadata": {}
        },
        {
          "output_type": "display_data",
          "data": {
            "text/plain": [
              "<Figure size 432x288 with 1 Axes>"
            ],
            "image/png": "[encoded data removed]"
          },
          "metadata": {}
        }
      ]
    },
    {
      "cell_type": "markdown",
      "source": [
        "####2. Use the [random_split](https://pytorch.org/docs/stable/data.html#torch.utils.data.random_split) method to split the `train_data` into `train_dataset` (50000 images) and `validation_dataset` dataset (10000 images). (5 points)"
      ],
      "metadata": {
        "id": "JXbRPNvvQ3s5"
      }
    },
    {
      "cell_type": "code",
      "source": [
        "train_data, val_data = torch.utils.data.random_split(train_data, [50000, 10000], generator=torch.Generator().manual_seed(42))"
      ],
      "metadata": {
        "id": "eMHxma1VXSDE"
      },
      "execution_count": null,
      "outputs": []
    },
    {
      "cell_type": "code",
      "source": [
        "image, label = val_data[0]\n",
        "print(\"image shape:\", image.shape, \"\\n\", \"image label:\", label)"
      ],
      "metadata": {
        "colab": {
          "base_uri": "https://localhost:8080/"
        },
        "id": "ZTx1a_kMcyYU",
        "outputId": "b29df563-85e0-422f-e9de-6346052f1fee"
      },
      "execution_count": null,
      "outputs": [
        {
          "output_type": "stream",
          "name": "stdout",
          "text": [
            "image shape: torch.Size([1, 28, 28]) \n",
            " image label: 4\n"
          ]
        }
      ]
    },
    {
      "cell_type": "markdown",
      "source": [
        "#### 3. Create dataloader objects for `train_dataset`, `validation_dataset`, and `test_dataset`. (5 points)"
      ],
      "metadata": {
        "id": "Pej9bS2lfFkb"
      }
    },
    {
      "cell_type": "code",
      "source": [
        "train_dataloader = DataLoader(train_data, 32, shuffle = True )\n",
        "validation_dataloader = DataLoader(val_data, 32, shuffle = False )\n",
        "test_dataloader = DataLoader(test_data, 32, shuffle = False )"
      ],
      "metadata": {
        "id": "xd1zHUocfazi"
      },
      "execution_count": null,
      "outputs": []
    },
    {
      "cell_type": "markdown",
      "source": [
        "#### 4. Develop an MLP model for classifying MNIST images. The developed model should have four hidden layers of 256, 1228, 64, and 32 neurons. Each hidden layer should be followed with a ReLU unit and a Dropout layer (p=0.2).  (15 points)"
      ],
      "metadata": {
        "id": "3_R2J6A1ahUS"
      }
    },
    {
      "cell_type": "markdown",
      "source": [
        "The pixels in the images will be flattened to form an array of 784-pixel values."
      ],
      "metadata": {
        "id": "uJDkW2hyqnV-"
      }
    },
    {
      "cell_type": "code",
      "source": [
        "class MLP(nn.Module):\n",
        "\n",
        "  def __init__(self, input_size = 784, output_size = 10, layers = [256, 1228, 64, 32]):\n",
        "    super(MLP, self).__init__()\n",
        "    self.d1 = nn.Linear(input_size, layers[0]) #hidden_layer1\n",
        "    self.d2 = nn.Linear(layers[0], layers[1]) #hidden_layer2\n",
        "    self.d3 = nn.Linear(layers[1], layers[2]) #hiddenn_layer3\n",
        "    self.d4 = nn.Linear(layers[2], layers[3]) #hiddenn_layer4\n",
        "    self.d5 = nn.Linear(layers[3], output_size) #output layer\n",
        "    self.dropout = nn.Dropout(p = 0.2)\n",
        "\n",
        "\n",
        "\n",
        "  def forward(self, X):\n",
        "    X = X.view(-1, 28*28)\n",
        "    X = F.relu(self.d1(X))\n",
        "    X = self.dropout(X)\n",
        "    X = F.relu(self.d2(X))\n",
        "    X = self.dropout(X)\n",
        "    X = F.relu(self.d3(X))\n",
        "    X = self.dropout(X)\n",
        "    X = F.relu(self.d4(X))\n",
        "    X = self.dropout(X)\n",
        "    X = self.d5(X)\n",
        "    return F.log_softmax(X, dim = 1)\n"
      ],
      "metadata": {
        "id": "WNsJAsisbdWm"
      },
      "execution_count": null,
      "outputs": []
    },
    {
      "cell_type": "markdown",
      "source": [
        "explanation: the 'nn.module' class from pytorch is subclassed to define a custom MLP model for MNIST dataset. The output of the model is passed through a log-softmax function to obtain the predicted class probability."
      ],
      "metadata": {
        "id": "Z_0CQ2Cz4lGp"
      }
    },
    {
      "cell_type": "code",
      "source": [
        "model = MLP()\n",
        "print(model)"
      ],
      "metadata": {
        "colab": {
          "base_uri": "https://localhost:8080/"
        },
        "id": "bMpS6WVBtDZ1",
        "outputId": "a95257ef-c3ca-4cdc-f626-c8ee5a9a598f"
      },
      "execution_count": null,
      "outputs": [
        {
          "output_type": "stream",
          "name": "stdout",
          "text": [
            "MLP(\n",
            "  (d1): Linear(in_features=784, out_features=256, bias=True)\n",
            "  (d2): Linear(in_features=256, out_features=1228, bias=True)\n",
            "  (d3): Linear(in_features=1228, out_features=64, bias=True)\n",
            "  (d4): Linear(in_features=64, out_features=32, bias=True)\n",
            "  (d5): Linear(in_features=32, out_features=10, bias=True)\n",
            "  (dropout): Dropout(p=0.2, inplace=False)\n",
            ")\n"
          ]
        }
      ]
    },
    {
      "cell_type": "markdown",
      "source": [
        "#### 5. Define the components needed for training a deep learning model. (10 points)\n",
        "\n"
      ],
      "metadata": {
        "id": "tZnMNV1Id_n1"
      }
    },
    {
      "cell_type": "markdown",
      "source": [
        "In general training a deep learning model typically involves the following components:\n",
        "1. Data: A training dataset and a validation dataset that the model will learn from and test on, respectively. The data should be split into inputs (features) and targets (labels).\n",
        "\n",
        "2. Model architecture: The structure of the model, including the number of layers, the number of neurons in each layer, the activation functions, and the type of layers (e.g. dense, convolutional, recurrent).\n",
        "\n",
        "3. Loss function: A measure of the difference between the predicted labels and the true labels. The loss function guides the model's learning process by penalizing incorrect predictions. \n",
        "\n",
        "4. Optimizer: A mathematical algorithm that adjusts the model's parameters in order to minimize the loss function. Examples of optimizers include stochastic gradient descent (SGD), Adam, and Adagrad.\n",
        "\n",
        "5. Hyperparameters: Parameters that are not learned by the model during training, but are set before training begins. Examples of hyperparameters include the learning rate, batch size, and number of training epochs.\n",
        "\n",
        "6. Training loop: A loop that trains the model over multiple epochs by splitting the training data into batches, forwarding the input through the model to obtain predictions, computing the loss, updating the model's parameters with the optimizer, and repeating until all the training data has been seen.\n",
        "\n",
        "7. Evaluation metric: A measure of how well the model is performing, such as accuracy, F1 score, or AUC. The evaluation metric is used to monitor the model's performance on the validation dataset.\n",
        "\n",
        "8. Early stopping: A mechanism that stops the training loop early if the model's performance on the validation dataset does not improve for a certain number of epochs, in order to avoid overfitting.\n",
        "\n"
      ],
      "metadata": {
        "id": "PY80I5fq6Z8t"
      }
    },
    {
      "cell_type": "markdown",
      "source": [
        "#### 6. Write the training loop and train the model for 100 epochs. Print the training and validation accuracy and loss for each epoch. (35 points)"
      ],
      "metadata": {
        "id": "T8uSNlodMVw-"
      }
    },
    {
      "cell_type": "code",
      "source": [
        "criterion = nn.CrossEntropyLoss()\n",
        "optimizer = torch.optim.SGD(model.parameters(), lr = 0.01, momentum=0.9)"
      ],
      "metadata": {
        "id": "pRK8g7fHuWwk"
      },
      "execution_count": null,
      "outputs": []
    },
    {
      "cell_type": "code",
      "source": [
        "for images, labels in train_dataloader:\n",
        "  print('initial batch shape:', images.size())\n",
        "  break\n",
        "print(\"Batch shape after flattening\", images.view(32, -1).size())"
      ],
      "metadata": {
        "id": "0nT3ixTAQ4QQ",
        "colab": {
          "base_uri": "https://localhost:8080/"
        },
        "outputId": "428928ad-7028-47f5-d67a-6e0950dfde73"
      },
      "execution_count": null,
      "outputs": [
        {
          "output_type": "stream",
          "name": "stdout",
          "text": [
            "initial batch shape: torch.Size([32, 1, 28, 28])\n",
            "Batch shape after flattening torch.Size([32, 784])\n"
          ]
        }
      ]
    },
    {
      "cell_type": "markdown",
      "source": [
        "I trained the model for 100 epochs, with each consisting of a training and a validation phase. the training phase evaluates the model on the validation set and calculates the validation loss and accuracy. Finally, the code tests the model on the test set and prints the test accuracy. "
      ],
      "metadata": {
        "id": "yPDAH3xIRMCj"
      }
    },
    {
      "cell_type": "code",
      "source": [
        "# Initialize the model, loss function, and optimizer\n",
        "model = MLP()\n",
        "num_epochs =100\n",
        "\n",
        "\n",
        "\n",
        "for epoch in range(100):\n",
        "    running_loss = 0\n",
        "    for inputs, labels in train_dataloader:\n",
        "        optimizer.zero_grad()\n",
        "        outputs = model(inputs)\n",
        "        loss = criterion(outputs, labels)\n",
        "        loss.backward()\n",
        "        optimizer.step()\n",
        "        running_loss += loss.item()\n",
        "    train_loss = running_loss / len(train_dataloader)\n",
        "    # print('Epoch {}: train loss: {:.4f}'.format(epoch + 1, train_loss))\n",
        "\n",
        "    correct = 0\n",
        "    total = 0\n",
        "    with torch.no_grad():\n",
        "        for inputs, labels in train_dataloader:\n",
        "            outputs = model(inputs)\n",
        "            _, predicted = torch.max(outputs.data, 1)\n",
        "            total += labels.size(0)\n",
        "            correct += (predicted == labels).sum().item()\n",
        "    train_acc = 100 * correct / total\n",
        "    # print('Epoch {}: train accuracy: {:.2f}%'.format(epoch + 1, train_accuracy))\n",
        "\n",
        "    correct = 0\n",
        "    total = 0\n",
        "    with torch.no_grad():\n",
        "        for inputs, labels in validation_dataloader:\n",
        "            outputs = model(inputs)\n",
        "            loss = criterion(outputs, labels)\n",
        "            _, predicted = torch.max(outputs.data, 1)\n",
        "            total += labels.size(0)\n",
        "            correct += (predicted == labels).sum().item()\n",
        "    val_acc = 100 * correct / total\n",
        "    val_loss = loss.item() / len(validation_dataloader)\n",
        "    # print('Epoch {}: validation accuracy: {:.2f}%, validation loss: {:.4f}'.format(epoch + 1, accuracy, validation_loss))\n",
        "    print('Epoch [{}/{}], Loss: {:.4f}, Acc:{:.4f}, Val Loss: {:.4f}, Val Acc: {:.4f}'.format(epoch + 1, num_epochs, train_loss, train_acc, val_loss, val_acc))\n",
        "\n",
        "print('Finished training.')\n",
        "\n",
        "\n",
        "\n"
      ],
      "metadata": {
        "id": "JA-TjNK_6HMZ",
        "colab": {
          "base_uri": "https://localhost:8080/"
        },
        "outputId": "5e02ae33-d836-4c87-cdad-ada15dfae21f"
      },
      "execution_count": null,
      "outputs": [
        {
          "output_type": "stream",
          "name": "stdout",
          "text": [
            "Epoch [1/100], Loss: 2.3069, Acc:11.0100, Val Loss: 0.0073, Val Acc: 11.3700\n",
            "Epoch [2/100], Loss: 2.3069, Acc:11.0400, Val Loss: 0.0073, Val Acc: 10.6800\n",
            "Epoch [3/100], Loss: 2.3068, Acc:10.9740, Val Loss: 0.0073, Val Acc: 11.3000\n",
            "Epoch [4/100], Loss: 2.3068, Acc:11.0040, Val Loss: 0.0073, Val Acc: 10.9300\n",
            "Epoch [5/100], Loss: 2.3070, Acc:11.0620, Val Loss: 0.0073, Val Acc: 11.0600\n",
            "Epoch [6/100], Loss: 2.3069, Acc:10.9200, Val Loss: 0.0073, Val Acc: 10.6200\n",
            "Epoch [7/100], Loss: 2.3069, Acc:10.8360, Val Loss: 0.0073, Val Acc: 11.4200\n",
            "Epoch [8/100], Loss: 2.3070, Acc:10.9120, Val Loss: 0.0073, Val Acc: 11.4400\n",
            "Epoch [9/100], Loss: 2.3072, Acc:11.0780, Val Loss: 0.0073, Val Acc: 11.2100\n",
            "Epoch [10/100], Loss: 2.3068, Acc:10.8180, Val Loss: 0.0073, Val Acc: 10.8900\n",
            "Epoch [11/100], Loss: 2.3071, Acc:10.9400, Val Loss: 0.0073, Val Acc: 11.2000\n",
            "Epoch [12/100], Loss: 2.3071, Acc:11.1220, Val Loss: 0.0073, Val Acc: 10.7300\n",
            "Epoch [13/100], Loss: 2.3070, Acc:11.0640, Val Loss: 0.0073, Val Acc: 11.4100\n",
            "Epoch [14/100], Loss: 2.3069, Acc:11.0000, Val Loss: 0.0073, Val Acc: 11.0300\n",
            "Epoch [15/100], Loss: 2.3069, Acc:11.0400, Val Loss: 0.0073, Val Acc: 10.9200\n",
            "Epoch [16/100], Loss: 2.3070, Acc:10.7280, Val Loss: 0.0073, Val Acc: 11.0600\n",
            "Epoch [17/100], Loss: 2.3070, Acc:10.7860, Val Loss: 0.0073, Val Acc: 10.8900\n",
            "Epoch [18/100], Loss: 2.3071, Acc:10.9880, Val Loss: 0.0073, Val Acc: 11.3000\n",
            "Epoch [19/100], Loss: 2.3069, Acc:10.9600, Val Loss: 0.0073, Val Acc: 10.6500\n",
            "Epoch [20/100], Loss: 2.3068, Acc:10.8180, Val Loss: 0.0073, Val Acc: 11.1700\n",
            "Epoch [21/100], Loss: 2.3071, Acc:11.1780, Val Loss: 0.0073, Val Acc: 11.3900\n",
            "Epoch [22/100], Loss: 2.3069, Acc:10.9340, Val Loss: 0.0073, Val Acc: 11.4300\n",
            "Epoch [23/100], Loss: 2.3070, Acc:11.0060, Val Loss: 0.0073, Val Acc: 11.2600\n",
            "Epoch [24/100], Loss: 2.3069, Acc:10.9740, Val Loss: 0.0073, Val Acc: 11.7100\n",
            "Epoch [25/100], Loss: 2.3069, Acc:10.9240, Val Loss: 0.0073, Val Acc: 11.2200\n",
            "Epoch [26/100], Loss: 2.3068, Acc:10.9660, Val Loss: 0.0073, Val Acc: 11.2400\n",
            "Epoch [27/100], Loss: 2.3072, Acc:11.0020, Val Loss: 0.0073, Val Acc: 10.8600\n",
            "Epoch [28/100], Loss: 2.3069, Acc:11.1680, Val Loss: 0.0073, Val Acc: 11.5300\n",
            "Epoch [29/100], Loss: 2.3069, Acc:11.1200, Val Loss: 0.0073, Val Acc: 10.8400\n",
            "Epoch [30/100], Loss: 2.3068, Acc:10.9220, Val Loss: 0.0073, Val Acc: 10.9500\n",
            "Epoch [31/100], Loss: 2.3070, Acc:11.1740, Val Loss: 0.0073, Val Acc: 11.3900\n",
            "Epoch [32/100], Loss: 2.3069, Acc:10.9740, Val Loss: 0.0073, Val Acc: 11.0700\n",
            "Epoch [33/100], Loss: 2.3070, Acc:10.9180, Val Loss: 0.0073, Val Acc: 11.5000\n",
            "Epoch [34/100], Loss: 2.3070, Acc:11.0260, Val Loss: 0.0073, Val Acc: 11.2900\n",
            "Epoch [35/100], Loss: 2.3070, Acc:10.9560, Val Loss: 0.0073, Val Acc: 11.3700\n",
            "Epoch [36/100], Loss: 2.3070, Acc:11.0940, Val Loss: 0.0073, Val Acc: 11.4600\n",
            "Epoch [37/100], Loss: 2.3072, Acc:10.8260, Val Loss: 0.0073, Val Acc: 11.3700\n",
            "Epoch [38/100], Loss: 2.3070, Acc:10.8020, Val Loss: 0.0073, Val Acc: 11.4400\n",
            "Epoch [39/100], Loss: 2.3072, Acc:10.9780, Val Loss: 0.0073, Val Acc: 11.4600\n",
            "Epoch [40/100], Loss: 2.3070, Acc:10.9940, Val Loss: 0.0073, Val Acc: 10.7000\n",
            "Epoch [41/100], Loss: 2.3070, Acc:11.2720, Val Loss: 0.0073, Val Acc: 11.4800\n",
            "Epoch [42/100], Loss: 2.3068, Acc:10.9500, Val Loss: 0.0073, Val Acc: 11.0300\n",
            "Epoch [43/100], Loss: 2.3068, Acc:11.0440, Val Loss: 0.0073, Val Acc: 11.1800\n",
            "Epoch [44/100], Loss: 2.3069, Acc:10.9840, Val Loss: 0.0073, Val Acc: 10.8600\n",
            "Epoch [45/100], Loss: 2.3070, Acc:10.9220, Val Loss: 0.0073, Val Acc: 11.0100\n",
            "Epoch [46/100], Loss: 2.3070, Acc:11.1400, Val Loss: 0.0073, Val Acc: 10.9800\n",
            "Epoch [47/100], Loss: 2.3071, Acc:11.0320, Val Loss: 0.0073, Val Acc: 11.4200\n",
            "Epoch [48/100], Loss: 2.3069, Acc:10.8900, Val Loss: 0.0073, Val Acc: 11.2800\n",
            "Epoch [49/100], Loss: 2.3070, Acc:11.1540, Val Loss: 0.0073, Val Acc: 10.9300\n",
            "Epoch [50/100], Loss: 2.3068, Acc:10.9160, Val Loss: 0.0073, Val Acc: 11.3000\n",
            "Epoch [51/100], Loss: 2.3069, Acc:10.8040, Val Loss: 0.0073, Val Acc: 10.9000\n",
            "Epoch [52/100], Loss: 2.3070, Acc:11.2900, Val Loss: 0.0073, Val Acc: 11.3700\n",
            "Epoch [53/100], Loss: 2.3071, Acc:10.8880, Val Loss: 0.0073, Val Acc: 10.8700\n",
            "Epoch [54/100], Loss: 2.3068, Acc:11.2460, Val Loss: 0.0073, Val Acc: 11.0000\n",
            "Epoch [55/100], Loss: 2.3068, Acc:11.1040, Val Loss: 0.0073, Val Acc: 11.2500\n",
            "Epoch [56/100], Loss: 2.3070, Acc:11.0180, Val Loss: 0.0073, Val Acc: 10.8700\n",
            "Epoch [57/100], Loss: 2.3069, Acc:10.8860, Val Loss: 0.0073, Val Acc: 10.6000\n",
            "Epoch [58/100], Loss: 2.3068, Acc:11.0220, Val Loss: 0.0073, Val Acc: 11.4400\n",
            "Epoch [59/100], Loss: 2.3068, Acc:10.9980, Val Loss: 0.0073, Val Acc: 11.0300\n",
            "Epoch [60/100], Loss: 2.3069, Acc:11.2540, Val Loss: 0.0073, Val Acc: 11.8300\n",
            "Epoch [61/100], Loss: 2.3067, Acc:10.9480, Val Loss: 0.0073, Val Acc: 10.7400\n",
            "Epoch [62/100], Loss: 2.3069, Acc:11.0380, Val Loss: 0.0073, Val Acc: 11.2200\n",
            "Epoch [63/100], Loss: 2.3070, Acc:11.0300, Val Loss: 0.0073, Val Acc: 11.1000\n",
            "Epoch [64/100], Loss: 2.3071, Acc:11.0180, Val Loss: 0.0073, Val Acc: 10.9800\n",
            "Epoch [65/100], Loss: 2.3069, Acc:11.2080, Val Loss: 0.0073, Val Acc: 11.2600\n",
            "Epoch [66/100], Loss: 2.3068, Acc:10.9500, Val Loss: 0.0073, Val Acc: 11.5000\n",
            "Epoch [67/100], Loss: 2.3068, Acc:11.0520, Val Loss: 0.0073, Val Acc: 11.1200\n",
            "Epoch [68/100], Loss: 2.3067, Acc:11.0600, Val Loss: 0.0073, Val Acc: 11.4000\n",
            "Epoch [69/100], Loss: 2.3070, Acc:10.8420, Val Loss: 0.0073, Val Acc: 10.9200\n",
            "Epoch [70/100], Loss: 2.3069, Acc:10.9140, Val Loss: 0.0073, Val Acc: 11.0000\n",
            "Epoch [71/100], Loss: 2.3069, Acc:11.1900, Val Loss: 0.0072, Val Acc: 10.9100\n",
            "Epoch [72/100], Loss: 2.3070, Acc:10.8660, Val Loss: 0.0073, Val Acc: 11.2300\n",
            "Epoch [73/100], Loss: 2.3069, Acc:10.9780, Val Loss: 0.0073, Val Acc: 11.0600\n",
            "Epoch [74/100], Loss: 2.3069, Acc:10.9540, Val Loss: 0.0073, Val Acc: 11.5800\n",
            "Epoch [75/100], Loss: 2.3068, Acc:11.2240, Val Loss: 0.0073, Val Acc: 11.2200\n",
            "Epoch [76/100], Loss: 2.3068, Acc:11.0140, Val Loss: 0.0073, Val Acc: 11.3500\n",
            "Epoch [77/100], Loss: 2.3067, Acc:11.0880, Val Loss: 0.0073, Val Acc: 10.9900\n",
            "Epoch [78/100], Loss: 2.3069, Acc:10.8640, Val Loss: 0.0073, Val Acc: 10.7100\n",
            "Epoch [79/100], Loss: 2.3071, Acc:10.9800, Val Loss: 0.0073, Val Acc: 11.8800\n",
            "Epoch [80/100], Loss: 2.3070, Acc:11.2140, Val Loss: 0.0073, Val Acc: 10.9000\n",
            "Epoch [81/100], Loss: 2.3069, Acc:10.9720, Val Loss: 0.0073, Val Acc: 11.3700\n",
            "Epoch [82/100], Loss: 2.3068, Acc:10.8180, Val Loss: 0.0073, Val Acc: 11.5200\n",
            "Epoch [83/100], Loss: 2.3070, Acc:10.9500, Val Loss: 0.0073, Val Acc: 11.5900\n",
            "Epoch [84/100], Loss: 2.3068, Acc:11.0320, Val Loss: 0.0073, Val Acc: 11.2000\n",
            "Epoch [85/100], Loss: 2.3068, Acc:10.9420, Val Loss: 0.0073, Val Acc: 11.4100\n",
            "Epoch [86/100], Loss: 2.3069, Acc:11.0940, Val Loss: 0.0073, Val Acc: 11.1600\n",
            "Epoch [87/100], Loss: 2.3071, Acc:11.0720, Val Loss: 0.0073, Val Acc: 11.4500\n",
            "Epoch [88/100], Loss: 2.3072, Acc:11.0500, Val Loss: 0.0073, Val Acc: 11.0900\n",
            "Epoch [89/100], Loss: 2.3069, Acc:11.0940, Val Loss: 0.0073, Val Acc: 10.9900\n",
            "Epoch [90/100], Loss: 2.3069, Acc:10.9160, Val Loss: 0.0073, Val Acc: 11.0800\n",
            "Epoch [91/100], Loss: 2.3068, Acc:11.0840, Val Loss: 0.0073, Val Acc: 11.0800\n",
            "Epoch [92/100], Loss: 2.3071, Acc:11.0220, Val Loss: 0.0073, Val Acc: 11.4500\n",
            "Epoch [93/100], Loss: 2.3069, Acc:11.1200, Val Loss: 0.0073, Val Acc: 11.1700\n",
            "Epoch [94/100], Loss: 2.3070, Acc:10.9900, Val Loss: 0.0073, Val Acc: 11.2800\n",
            "Epoch [95/100], Loss: 2.3070, Acc:11.0420, Val Loss: 0.0073, Val Acc: 10.9500\n",
            "Epoch [96/100], Loss: 2.3070, Acc:11.0760, Val Loss: 0.0073, Val Acc: 11.5900\n",
            "Epoch [97/100], Loss: 2.3070, Acc:11.0460, Val Loss: 0.0073, Val Acc: 11.4500\n",
            "Epoch [98/100], Loss: 2.3069, Acc:11.0080, Val Loss: 0.0073, Val Acc: 11.4400\n",
            "Epoch [99/100], Loss: 2.3069, Acc:11.1500, Val Loss: 0.0073, Val Acc: 11.1400\n",
            "Epoch [100/100], Loss: 2.3070, Acc:10.8940, Val Loss: 0.0073, Val Acc: 10.9700\n",
            "Finished training.\n"
          ]
        }
      ]
    },
    {
      "cell_type": "markdown",
      "source": [
        "**zero_grad()** the training phase of every mini-batch we want to set them explicitly to zero before starting the backpropagation at that time we can use zero_grad() function as per requirement.\n",
        "\n"
      ],
      "metadata": {
        "id": "nibdsj1fTPjd"
      }
    },
    {
      "cell_type": "markdown",
      "source": [
        "**loss.backward** \n",
        "The backward() method in Pytorch is used to calculate the gradient during the backward pass in the neural network. If we do not call this backward() method then gradients are not calculated for the tensors. "
      ],
      "metadata": {
        "id": "Q8cwTPc5eNoH"
      }
    },
    {
      "cell_type": "markdown",
      "source": [
        "**optimizer.step()** Performs a single optimization step (parameter update)"
      ],
      "metadata": {
        "id": "KKwrCqv_eepg"
      }
    },
    {
      "cell_type": "markdown",
      "source": [
        "when initializing optimizer you explicitly tell it what parameters (tensors) of the model it should be updating. The gradients are \"stored\" by the tensors themselves (they have a grad and a requires_grad attributes) once you call backward() on the loss. After computing the gradients for all tensors in the model, calling optimizer.step() makes the optimizer iterate over all parameters (tensors) it is supposed to update and use their internally stored grad to update their values."
      ],
      "metadata": {
        "id": "U03iOHBXd1uG"
      }
    },
    {
      "cell_type": "markdown",
      "source": [
        "**loss.ietm()** calculates the running loss so that you could later calculate the mean loss of that epoch."
      ],
      "metadata": {
        "id": "7Hx3cvLfgFxY"
      }
    },
    {
      "cell_type": "markdown",
      "source": [
        "the code iterates over the batches in the train_loader, and for each batch, the model is applied to the inputs with outputs = model(inputs). The prediction is made by taking the index of the maximum value in the output with _, predicted = torch.max(outputs.data, 1). The total number of samples is accumulated in total, and the number of correct predictions is accumulated in correct."
      ],
      "metadata": {
        "id": "iAOktScCitye"
      }
    },
    {
      "cell_type": "markdown",
      "source": [
        "####6. Test the model using the `test_dataset`, and report accuracy and loss. (10 points)"
      ],
      "metadata": {
        "id": "MSDr2VB9Q0uA"
      }
    },
    {
      "cell_type": "code",
      "source": [
        "# Test the model on the test dataset\n",
        "\n",
        "\n",
        "correct = 0\n",
        "total = 0\n",
        "test_loss = 0\n",
        "with torch.no_grad():\n",
        "    for data in test_dataloader:\n",
        "        inputs, labels = data\n",
        "        outputs = model(inputs)\n",
        "        loss = criterion(outputs, labels)\n",
        "        test_loss += loss.item()\n",
        "        _, predicted = torch.max(outputs.data, 1)\n",
        "        total += labels.size(0)\n",
        "        correct += (predicted == labels).sum().item()\n",
        "\n",
        "test_accuracy = 100 * correct / total\n",
        "test_loss /= len(test_dataloader)\n",
        "print('Test accuracy: {:.2f}%, Test loss: {:.4f}'.format(test_accuracy, test_loss))\n"
      ],
      "metadata": {
        "id": "Njcfq-uZLriH",
        "colab": {
          "base_uri": "https://localhost:8080/"
        },
        "outputId": "98dd98b0-11ed-4a29-ccdc-f9e956b900d7"
      },
      "execution_count": null,
      "outputs": [
        {
          "output_type": "stream",
          "name": "stdout",
          "text": [
            "Test accuracy: 11.04%, Test loss: 2.3062\n"
          ]
        }
      ]
    },
    {
      "cell_type": "markdown",
      "source": [
        "#### 8. We would like to see how accurate the trained model is when applied to a set of images of digits with slight differences. The image of a digit in the MNIST dataset has a black background (0 value for pixel values). This might be like writing with white chalk on a blackboard. We make slight changes in the test datasets by applying a simple change `image = 1 - image`. In other words, we invert the pixel intensity values. The resulting images resemble a digit written with a black marker on a whiteboard. Test the model using the updated test_dataset, and report your observations regarding model performance. How would you change your pipeline if you redo this experiment? (15 points)"
      ],
      "metadata": {
        "id": "Mx9bidatV5RT"
      }
    },
    {
      "cell_type": "code",
      "source": [
        "test_dataset = torchvision.datasets.MNIST('data', train=False, transform=transforms.Compose([\n",
        "    transforms.ToTensor(),\n",
        "    transforms.Lambda(lambda x: 1 - x)\n",
        "]))\n",
        "\n",
        "test_loader = DataLoader(test_dataset, 32, shuffle = False )\n",
        "# Test the model on the test dataset\n",
        "\n",
        "\n",
        "correct = 0\n",
        "total = 0\n",
        "test_loss = 0\n",
        "with torch.no_grad():\n",
        "    for data in test_loader:\n",
        "        inputs, labels = data\n",
        "        outputs = model(inputs)\n",
        "        loss = criterion(outputs, labels)\n",
        "        test_loss += loss.item()\n",
        "        _, predicted = torch.max(outputs.data, 1)\n",
        "        total += labels.size(0)\n",
        "        correct += (predicted == labels).sum().item()\n",
        "\n",
        "test_accuracy = 100 * correct / total\n",
        "test_loss /= len(test_loader)\n",
        "print('Test accuracy: {:.2f}%, Test loss: {:.4f}'.format(test_accuracy, test_loss))"
      ],
      "metadata": {
        "id": "tWL4gwwlTgOl",
        "colab": {
          "base_uri": "https://localhost:8080/"
        },
        "outputId": "75b030b4-d3bd-48d4-e43a-e49f835674b9"
      },
      "execution_count": null,
      "outputs": [
        {
          "output_type": "stream",
          "name": "stdout",
          "text": [
            "Test accuracy: 10.22%, Test loss: 2.3052\n"
          ]
        }
      ]
    },
    {
      "cell_type": "markdown",
      "source": [
        "The accuracy of the model decreased due to the change in the input images. This is because the model was trained on images with black background (0 value for pixel values) and might not perform well on images with white background.\n",
        "\n",
        "To improve the model's performance:\n",
        "\n",
        "- Data augmentation: we can augment the training dataset with variations of the images such as rotation, scaling, and flipping. This will increase the diversity of the training data and make the model more robust to changes in the input images.\n",
        "\n",
        "- Preprocessing: we can perform additional preprocessing on the images such as thresholding, normalization, and contrast adjustment to make the images more similar to the training data.\n",
        "\n",
        "- Model architecture: we can change the model architecture to make it more suitable for the task at hand. For example,by increasing the number of layers, neurons, or add more advanced techniques such as Convolutional Neural Networks (CNNs) or Recurrent Neural Networks (RNNs).\n",
        "\n",
        "- Hyperparameter tuning: You can tune the hyperparameters such as learning rate, batch size, and number of epochs to optimize the model's performance.\n",
        "\n",
        "- Training on larger dataset: You can train the model on a larger dataset to improve its generalization ability."
      ],
      "metadata": {
        "id": "5gTEsL0ey4zZ"
      }
    },
    {
      "cell_type": "code",
      "source": [],
      "metadata": {
        "id": "KFpylolXztHd"
      },
      "execution_count": null,
      "outputs": []
    }
  ]
}