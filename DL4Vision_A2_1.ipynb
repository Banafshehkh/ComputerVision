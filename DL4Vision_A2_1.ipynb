{
  "nbformat": 4,
  "nbformat_minor": 0,
  "metadata": {
    "colab": {
      "provenance": [],
      "include_colab_link": true
    },
    "kernelspec": {
      "name": "python3",
      "display_name": "Python 3"
    },
    "language_info": {
      "name": "python"
    },
    "accelerator": "GPU",
    "gpuClass": "standard",
    "widgets": {
      "application/vnd.jupyter.widget-state+json": {
        "d819eb1759bb495daf1413a9e3efb2d2": {
          "model_module": "@jupyter-widgets/controls",
          "model_name": "HBoxModel",
          "model_module_version": "1.5.0",
          "state": {
            "_dom_classes": [],
            "_model_module": "@jupyter-widgets/controls",
            "_model_module_version": "1.5.0",
            "_model_name": "HBoxModel",
            "_view_count": null,
            "_view_module": "@jupyter-widgets/controls",
            "_view_module_version": "1.5.0",
            "_view_name": "HBoxView",
            "box_style": "",
            "children": [
              "IPY_MODEL_ef31d490a7694b969ebc8cb9daaa33f4",
              "IPY_MODEL_722cbb7690c943bdb05d030e3fb40a8e",
              "IPY_MODEL_4da115d1a7d44b09b16fb048f7377ac6"
            ],
            "layout": "IPY_MODEL_78a8691e1cc549a4a93d335f1584898b"
          }
        },
        "ef31d490a7694b969ebc8cb9daaa33f4": {
          "model_module": "@jupyter-widgets/controls",
          "model_name": "HTMLModel",
          "model_module_version": "1.5.0",
          "state": {
            "_dom_classes": [],
            "_model_module": "@jupyter-widgets/controls",
            "_model_module_version": "1.5.0",
            "_model_name": "HTMLModel",
            "_view_count": null,
            "_view_module": "@jupyter-widgets/controls",
            "_view_module_version": "1.5.0",
            "_view_name": "HTMLView",
            "description": "",
            "description_tooltip": null,
            "layout": "IPY_MODEL_48e5897ad4ae4554aaac0586d0dfdf7d",
            "placeholder": "​",
            "style": "IPY_MODEL_0e6a8fbc9e5c4843b2a315632fcd5df6",
            "value": "100%"
          }
        },
        "722cbb7690c943bdb05d030e3fb40a8e": {
          "model_module": "@jupyter-widgets/controls",
          "model_name": "FloatProgressModel",
          "model_module_version": "1.5.0",
          "state": {
            "_dom_classes": [],
            "_model_module": "@jupyter-widgets/controls",
            "_model_module_version": "1.5.0",
            "_model_name": "FloatProgressModel",
            "_view_count": null,
            "_view_module": "@jupyter-widgets/controls",
            "_view_module_version": "1.5.0",
            "_view_name": "ProgressView",
            "bar_style": "success",
            "description": "",
            "description_tooltip": null,
            "layout": "IPY_MODEL_69372746c0f74153afc63ab313451cac",
            "max": 9912422,
            "min": 0,
            "orientation": "horizontal",
            "style": "IPY_MODEL_a27407cb306742469d30279bbfe4174f",
            "value": 9912422
          }
        },
        "4da115d1a7d44b09b16fb048f7377ac6": {
          "model_module": "@jupyter-widgets/controls",
          "model_name": "HTMLModel",
          "model_module_version": "1.5.0",
          "state": {
            "_dom_classes": [],
            "_model_module": "@jupyter-widgets/controls",
            "_model_module_version": "1.5.0",
            "_model_name": "HTMLModel",
            "_view_count": null,
            "_view_module": "@jupyter-widgets/controls",
            "_view_module_version": "1.5.0",
            "_view_name": "HTMLView",
            "description": "",
            "description_tooltip": null,
            "layout": "IPY_MODEL_56ee5bcc89684bf3abe08d8757ee4759",
            "placeholder": "​",
            "style": "IPY_MODEL_72b82410d0dc4ad094a45843a25839d3",
            "value": " 9912422/9912422 [00:00&lt;00:00, 31129555.47it/s]"
          }
        },
        "78a8691e1cc549a4a93d335f1584898b": {
          "model_module": "@jupyter-widgets/base",
          "model_name": "LayoutModel",
          "model_module_version": "1.2.0",
          "state": {
            "_model_module": "@jupyter-widgets/base",
            "_model_module_version": "1.2.0",
            "_model_name": "LayoutModel",
            "_view_count": null,
            "_view_module": "@jupyter-widgets/base",
            "_view_module_version": "1.2.0",
            "_view_name": "LayoutView",
            "align_content": null,
            "align_items": null,
            "align_self": null,
            "border": null,
            "bottom": null,
            "display": null,
            "flex": null,
            "flex_flow": null,
            "grid_area": null,
            "grid_auto_columns": null,
            "grid_auto_flow": null,
            "grid_auto_rows": null,
            "grid_column": null,
            "grid_gap": null,
            "grid_row": null,
            "grid_template_areas": null,
            "grid_template_columns": null,
            "grid_template_rows": null,
            "height": null,
            "justify_content": null,
            "justify_items": null,
            "left": null,
            "margin": null,
            "max_height": null,
            "max_width": null,
            "min_height": null,
            "min_width": null,
            "object_fit": null,
            "object_position": null,
            "order": null,
            "overflow": null,
            "overflow_x": null,
            "overflow_y": null,
            "padding": null,
            "right": null,
            "top": null,
            "visibility": null,
            "width": null
          }
        },
        "48e5897ad4ae4554aaac0586d0dfdf7d": {
          "model_module": "@jupyter-widgets/base",
          "model_name": "LayoutModel",
          "model_module_version": "1.2.0",
          "state": {
            "_model_module": "@jupyter-widgets/base",
            "_model_module_version": "1.2.0",
            "_model_name": "LayoutModel",
            "_view_count": null,
            "_view_module": "@jupyter-widgets/base",
            "_view_module_version": "1.2.0",
            "_view_name": "LayoutView",
            "align_content": null,
            "align_items": null,
            "align_self": null,
            "border": null,
            "bottom": null,
            "display": null,
            "flex": null,
            "flex_flow": null,
            "grid_area": null,
            "grid_auto_columns": null,
            "grid_auto_flow": null,
            "grid_auto_rows": null,
            "grid_column": null,
            "grid_gap": null,
            "grid_row": null,
            "grid_template_areas": null,
            "grid_template_columns": null,
            "grid_template_rows": null,
            "height": null,
            "justify_content": null,
            "justify_items": null,
            "left": null,
            "margin": null,
            "max_height": null,
            "max_width": null,
            "min_height": null,
            "min_width": null,
            "object_fit": null,
            "object_position": null,
            "order": null,
            "overflow": null,
            "overflow_x": null,
            "overflow_y": null,
            "padding": null,
            "right": null,
            "top": null,
            "visibility": null,
            "width": null
          }
        },
        "0e6a8fbc9e5c4843b2a315632fcd5df6": {
          "model_module": "@jupyter-widgets/controls",
          "model_name": "DescriptionStyleModel",
          "model_module_version": "1.5.0",
          "state": {
            "_model_module": "@jupyter-widgets/controls",
            "_model_module_version": "1.5.0",
            "_model_name": "DescriptionStyleModel",
            "_view_count": null,
            "_view_module": "@jupyter-widgets/base",
            "_view_module_version": "1.2.0",
            "_view_name": "StyleView",
            "description_width": ""
          }
        },
        "69372746c0f74153afc63ab313451cac": {
          "model_module": "@jupyter-widgets/base",
          "model_name": "LayoutModel",
          "model_module_version": "1.2.0",
          "state": {
            "_model_module": "@jupyter-widgets/base",
            "_model_module_version": "1.2.0",
            "_model_name": "LayoutModel",
            "_view_count": null,
            "_view_module": "@jupyter-widgets/base",
            "_view_module_version": "1.2.0",
            "_view_name": "LayoutView",
            "align_content": null,
            "align_items": null,
            "align_self": null,
            "border": null,
            "bottom": null,
            "display": null,
            "flex": null,
            "flex_flow": null,
            "grid_area": null,
            "grid_auto_columns": null,
            "grid_auto_flow": null,
            "grid_auto_rows": null,
            "grid_column": null,
            "grid_gap": null,
            "grid_row": null,
            "grid_template_areas": null,
            "grid_template_columns": null,
            "grid_template_rows": null,
            "height": null,
            "justify_content": null,
            "justify_items": null,
            "left": null,
            "margin": null,
            "max_height": null,
            "max_width": null,
            "min_height": null,
            "min_width": null,
            "object_fit": null,
            "object_position": null,
            "order": null,
            "overflow": null,
            "overflow_x": null,
            "overflow_y": null,
            "padding": null,
            "right": null,
            "top": null,
            "visibility": null,
            "width": null
          }
        },
        "a27407cb306742469d30279bbfe4174f": {
          "model_module": "@jupyter-widgets/controls",
          "model_name": "ProgressStyleModel",
          "model_module_version": "1.5.0",
          "state": {
            "_model_module": "@jupyter-widgets/controls",
            "_model_module_version": "1.5.0",
            "_model_name": "ProgressStyleModel",
            "_view_count": null,
            "_view_module": "@jupyter-widgets/base",
            "_view_module_version": "1.2.0",
            "_view_name": "StyleView",
            "bar_color": null,
            "description_width": ""
          }
        },
        "56ee5bcc89684bf3abe08d8757ee4759": {
          "model_module": "@jupyter-widgets/base",
          "model_name": "LayoutModel",
          "model_module_version": "1.2.0",
          "state": {
            "_model_module": "@jupyter-widgets/base",
            "_model_module_version": "1.2.0",
            "_model_name": "LayoutModel",
            "_view_count": null,
            "_view_module": "@jupyter-widgets/base",
            "_view_module_version": "1.2.0",
            "_view_name": "LayoutView",
            "align_content": null,
            "align_items": null,
            "align_self": null,
            "border": null,
            "bottom": null,
            "display": null,
            "flex": null,
            "flex_flow": null,
            "grid_area": null,
            "grid_auto_columns": null,
            "grid_auto_flow": null,
            "grid_auto_rows": null,
            "grid_column": null,
            "grid_gap": null,
            "grid_row": null,
            "grid_template_areas": null,
            "grid_template_columns": null,
            "grid_template_rows": null,
            "height": null,
            "justify_content": null,
            "justify_items": null,
            "left": null,
            "margin": null,
            "max_height": null,
            "max_width": null,
            "min_height": null,
            "min_width": null,
            "object_fit": null,
            "object_position": null,
            "order": null,
            "overflow": null,
            "overflow_x": null,
            "overflow_y": null,
            "padding": null,
            "right": null,
            "top": null,
            "visibility": null,
            "width": null
          }
        },
        "72b82410d0dc4ad094a45843a25839d3": {
          "model_module": "@jupyter-widgets/controls",
          "model_name": "DescriptionStyleModel",
          "model_module_version": "1.5.0",
          "state": {
            "_model_module": "@jupyter-widgets/controls",
            "_model_module_version": "1.5.0",
            "_model_name": "DescriptionStyleModel",
            "_view_count": null,
            "_view_module": "@jupyter-widgets/base",
            "_view_module_version": "1.2.0",
            "_view_name": "StyleView",
            "description_width": ""
          }
        },
        "a08468562a984c2881f58bc035aae125": {
          "model_module": "@jupyter-widgets/controls",
          "model_name": "HBoxModel",
          "model_module_version": "1.5.0",
          "state": {
            "_dom_classes": [],
            "_model_module": "@jupyter-widgets/controls",
            "_model_module_version": "1.5.0",
            "_model_name": "HBoxModel",
            "_view_count": null,
            "_view_module": "@jupyter-widgets/controls",
            "_view_module_version": "1.5.0",
            "_view_name": "HBoxView",
            "box_style": "",
            "children": [
              "IPY_MODEL_80df466827074c23bed8c230fdb1999d",
              "IPY_MODEL_369b5df4eee54e3d9b97beec56b6d87f",
              "IPY_MODEL_be1348774f584cc0be252f2c2e783998"
            ],
            "layout": "IPY_MODEL_a23d2d58d63145afb38c6d3a436740ca"
          }
        },
        "80df466827074c23bed8c230fdb1999d": {
          "model_module": "@jupyter-widgets/controls",
          "model_name": "HTMLModel",
          "model_module_version": "1.5.0",
          "state": {
            "_dom_classes": [],
            "_model_module": "@jupyter-widgets/controls",
            "_model_module_version": "1.5.0",
            "_model_name": "HTMLModel",
            "_view_count": null,
            "_view_module": "@jupyter-widgets/controls",
            "_view_module_version": "1.5.0",
            "_view_name": "HTMLView",
            "description": "",
            "description_tooltip": null,
            "layout": "IPY_MODEL_ba68a89d529b4e4cab0946546f37fa6f",
            "placeholder": "​",
            "style": "IPY_MODEL_af89abce3913499c9c1775899aae595b",
            "value": "100%"
          }
        },
        "369b5df4eee54e3d9b97beec56b6d87f": {
          "model_module": "@jupyter-widgets/controls",
          "model_name": "FloatProgressModel",
          "model_module_version": "1.5.0",
          "state": {
            "_dom_classes": [],
            "_model_module": "@jupyter-widgets/controls",
            "_model_module_version": "1.5.0",
            "_model_name": "FloatProgressModel",
            "_view_count": null,
            "_view_module": "@jupyter-widgets/controls",
            "_view_module_version": "1.5.0",
            "_view_name": "ProgressView",
            "bar_style": "success",
            "description": "",
            "description_tooltip": null,
            "layout": "IPY_MODEL_5fd1be278ae9475e8ff6efcf9ff8ad58",
            "max": 28881,
            "min": 0,
            "orientation": "horizontal",
            "style": "IPY_MODEL_498502be03274a5fae5fca0ccac5c670",
            "value": 28881
          }
        },
        "be1348774f584cc0be252f2c2e783998": {
          "model_module": "@jupyter-widgets/controls",
          "model_name": "HTMLModel",
          "model_module_version": "1.5.0",
          "state": {
            "_dom_classes": [],
            "_model_module": "@jupyter-widgets/controls",
            "_model_module_version": "1.5.0",
            "_model_name": "HTMLModel",
            "_view_count": null,
            "_view_module": "@jupyter-widgets/controls",
            "_view_module_version": "1.5.0",
            "_view_name": "HTMLView",
            "description": "",
            "description_tooltip": null,
            "layout": "IPY_MODEL_66bf00c37cce49d497057c21c477674e",
            "placeholder": "​",
            "style": "IPY_MODEL_e15f5e2b0416432b8fd30ec661894c65",
            "value": " 28881/28881 [00:00&lt;00:00, 454016.52it/s]"
          }
        },
        "a23d2d58d63145afb38c6d3a436740ca": {
          "model_module": "@jupyter-widgets/base",
          "model_name": "LayoutModel",
          "model_module_version": "1.2.0",
          "state": {
            "_model_module": "@jupyter-widgets/base",
            "_model_module_version": "1.2.0",
            "_model_name": "LayoutModel",
            "_view_count": null,
            "_view_module": "@jupyter-widgets/base",
            "_view_module_version": "1.2.0",
            "_view_name": "LayoutView",
            "align_content": null,
            "align_items": null,
            "align_self": null,
            "border": null,
            "bottom": null,
            "display": null,
            "flex": null,
            "flex_flow": null,
            "grid_area": null,
            "grid_auto_columns": null,
            "grid_auto_flow": null,
            "grid_auto_rows": null,
            "grid_column": null,
            "grid_gap": null,
            "grid_row": null,
            "grid_template_areas": null,
            "grid_template_columns": null,
            "grid_template_rows": null,
            "height": null,
            "justify_content": null,
            "justify_items": null,
            "left": null,
            "margin": null,
            "max_height": null,
            "max_width": null,
            "min_height": null,
            "min_width": null,
            "object_fit": null,
            "object_position": null,
            "order": null,
            "overflow": null,
            "overflow_x": null,
            "overflow_y": null,
            "padding": null,
            "right": null,
            "top": null,
            "visibility": null,
            "width": null
          }
        },
        "ba68a89d529b4e4cab0946546f37fa6f": {
          "model_module": "@jupyter-widgets/base",
          "model_name": "LayoutModel",
          "model_module_version": "1.2.0",
          "state": {
            "_model_module": "@jupyter-widgets/base",
            "_model_module_version": "1.2.0",
            "_model_name": "LayoutModel",
            "_view_count": null,
            "_view_module": "@jupyter-widgets/base",
            "_view_module_version": "1.2.0",
            "_view_name": "LayoutView",
            "align_content": null,
            "align_items": null,
            "align_self": null,
            "border": null,
            "bottom": null,
            "display": null,
            "flex": null,
            "flex_flow": null,
            "grid_area": null,
            "grid_auto_columns": null,
            "grid_auto_flow": null,
            "grid_auto_rows": null,
            "grid_column": null,
            "grid_gap": null,
            "grid_row": null,
            "grid_template_areas": null,
            "grid_template_columns": null,
            "grid_template_rows": null,
            "height": null,
            "justify_content": null,
            "justify_items": null,
            "left": null,
            "margin": null,
            "max_height": null,
            "max_width": null,
            "min_height": null,
            "min_width": null,
            "object_fit": null,
            "object_position": null,
            "order": null,
            "overflow": null,
            "overflow_x": null,
            "overflow_y": null,
            "padding": null,
            "right": null,
            "top": null,
            "visibility": null,
            "width": null
          }
        },
        "af89abce3913499c9c1775899aae595b": {
          "model_module": "@jupyter-widgets/controls",
          "model_name": "DescriptionStyleModel",
          "model_module_version": "1.5.0",
          "state": {
            "_model_module": "@jupyter-widgets/controls",
            "_model_module_version": "1.5.0",
            "_model_name": "DescriptionStyleModel",
            "_view_count": null,
            "_view_module": "@jupyter-widgets/base",
            "_view_module_version": "1.2.0",
            "_view_name": "StyleView",
            "description_width": ""
          }
        },
        "5fd1be278ae9475e8ff6efcf9ff8ad58": {
          "model_module": "@jupyter-widgets/base",
          "model_name": "LayoutModel",
          "model_module_version": "1.2.0",
          "state": {
            "_model_module": "@jupyter-widgets/base",
            "_model_module_version": "1.2.0",
            "_model_name": "LayoutModel",
            "_view_count": null,
            "_view_module": "@jupyter-widgets/base",
            "_view_module_version": "1.2.0",
            "_view_name": "LayoutView",
            "align_content": null,
            "align_items": null,
            "align_self": null,
            "border": null,
            "bottom": null,
            "display": null,
            "flex": null,
            "flex_flow": null,
            "grid_area": null,
            "grid_auto_columns": null,
            "grid_auto_flow": null,
            "grid_auto_rows": null,
            "grid_column": null,
            "grid_gap": null,
            "grid_row": null,
            "grid_template_areas": null,
            "grid_template_columns": null,
            "grid_template_rows": null,
            "height": null,
            "justify_content": null,
            "justify_items": null,
            "left": null,
            "margin": null,
            "max_height": null,
            "max_width": null,
            "min_height": null,
            "min_width": null,
            "object_fit": null,
            "object_position": null,
            "order": null,
            "overflow": null,
            "overflow_x": null,
            "overflow_y": null,
            "padding": null,
            "right": null,
            "top": null,
            "visibility": null,
            "width": null
          }
        },
        "498502be03274a5fae5fca0ccac5c670": {
          "model_module": "@jupyter-widgets/controls",
          "model_name": "ProgressStyleModel",
          "model_module_version": "1.5.0",
          "state": {
            "_model_module": "@jupyter-widgets/controls",
            "_model_module_version": "1.5.0",
            "_model_name": "ProgressStyleModel",
            "_view_count": null,
            "_view_module": "@jupyter-widgets/base",
            "_view_module_version": "1.2.0",
            "_view_name": "StyleView",
            "bar_color": null,
            "description_width": ""
          }
        },
        "66bf00c37cce49d497057c21c477674e": {
          "model_module": "@jupyter-widgets/base",
          "model_name": "LayoutModel",
          "model_module_version": "1.2.0",
          "state": {
            "_model_module": "@jupyter-widgets/base",
            "_model_module_version": "1.2.0",
            "_model_name": "LayoutModel",
            "_view_count": null,
            "_view_module": "@jupyter-widgets/base",
            "_view_module_version": "1.2.0",
            "_view_name": "LayoutView",
            "align_content": null,
            "align_items": null,
            "align_self": null,
            "border": null,
            "bottom": null,
            "display": null,
            "flex": null,
            "flex_flow": null,
            "grid_area": null,
            "grid_auto_columns": null,
            "grid_auto_flow": null,
            "grid_auto_rows": null,
            "grid_column": null,
            "grid_gap": null,
            "grid_row": null,
            "grid_template_areas": null,
            "grid_template_columns": null,
            "grid_template_rows": null,
            "height": null,
            "justify_content": null,
            "justify_items": null,
            "left": null,
            "margin": null,
            "max_height": null,
            "max_width": null,
            "min_height": null,
            "min_width": null,
            "object_fit": null,
            "object_position": null,
            "order": null,
            "overflow": null,
            "overflow_x": null,
            "overflow_y": null,
            "padding": null,
            "right": null,
            "top": null,
            "visibility": null,
            "width": null
          }
        },
        "e15f5e2b0416432b8fd30ec661894c65": {
          "model_module": "@jupyter-widgets/controls",
          "model_name": "DescriptionStyleModel",
          "model_module_version": "1.5.0",
          "state": {
            "_model_module": "@jupyter-widgets/controls",
            "_model_module_version": "1.5.0",
            "_model_name": "DescriptionStyleModel",
            "_view_count": null,
            "_view_module": "@jupyter-widgets/base",
            "_view_module_version": "1.2.0",
            "_view_name": "StyleView",
            "description_width": ""
          }
        },
        "12fb74a04db2486d81d73cdbae1b8721": {
          "model_module": "@jupyter-widgets/controls",
          "model_name": "HBoxModel",
          "model_module_version": "1.5.0",
          "state": {
            "_dom_classes": [],
            "_model_module": "@jupyter-widgets/controls",
            "_model_module_version": "1.5.0",
            "_model_name": "HBoxModel",
            "_view_count": null,
            "_view_module": "@jupyter-widgets/controls",
            "_view_module_version": "1.5.0",
            "_view_name": "HBoxView",
            "box_style": "",
            "children": [
              "IPY_MODEL_55764d065c294647b9c049ba825f02f8",
              "IPY_MODEL_8c6a11e24de54ae182e1f48123f115e0",
              "IPY_MODEL_dad8b1051cc64603855ff0f5c54e1990"
            ],
            "layout": "IPY_MODEL_2335a2a29d4d407989b29d5ea7afb0c5"
          }
        },
        "55764d065c294647b9c049ba825f02f8": {
          "model_module": "@jupyter-widgets/controls",
          "model_name": "HTMLModel",
          "model_module_version": "1.5.0",
          "state": {
            "_dom_classes": [],
            "_model_module": "@jupyter-widgets/controls",
            "_model_module_version": "1.5.0",
            "_model_name": "HTMLModel",
            "_view_count": null,
            "_view_module": "@jupyter-widgets/controls",
            "_view_module_version": "1.5.0",
            "_view_name": "HTMLView",
            "description": "",
            "description_tooltip": null,
            "layout": "IPY_MODEL_db6af1247cc8433599df69c87f640e71",
            "placeholder": "​",
            "style": "IPY_MODEL_bc694f11c223432d835fdbe6270d4e21",
            "value": "100%"
          }
        },
        "8c6a11e24de54ae182e1f48123f115e0": {
          "model_module": "@jupyter-widgets/controls",
          "model_name": "FloatProgressModel",
          "model_module_version": "1.5.0",
          "state": {
            "_dom_classes": [],
            "_model_module": "@jupyter-widgets/controls",
            "_model_module_version": "1.5.0",
            "_model_name": "FloatProgressModel",
            "_view_count": null,
            "_view_module": "@jupyter-widgets/controls",
            "_view_module_version": "1.5.0",
            "_view_name": "ProgressView",
            "bar_style": "success",
            "description": "",
            "description_tooltip": null,
            "layout": "IPY_MODEL_a8799cbd93ed4088bc1a3cbecdebd938",
            "max": 1648877,
            "min": 0,
            "orientation": "horizontal",
            "style": "IPY_MODEL_3d7d9476b6c74a0f872031f19024cb99",
            "value": 1648877
          }
        },
        "dad8b1051cc64603855ff0f5c54e1990": {
          "model_module": "@jupyter-widgets/controls",
          "model_name": "HTMLModel",
          "model_module_version": "1.5.0",
          "state": {
            "_dom_classes": [],
            "_model_module": "@jupyter-widgets/controls",
            "_model_module_version": "1.5.0",
            "_model_name": "HTMLModel",
            "_view_count": null,
            "_view_module": "@jupyter-widgets/controls",
            "_view_module_version": "1.5.0",
            "_view_name": "HTMLView",
            "description": "",
            "description_tooltip": null,
            "layout": "IPY_MODEL_527401af59114616bccfbd6087d4bc80",
            "placeholder": "​",
            "style": "IPY_MODEL_5249936c34e645348f2ced9ba20b089c",
            "value": " 1648877/1648877 [00:00&lt;00:00, 25488010.93it/s]"
          }
        },
        "2335a2a29d4d407989b29d5ea7afb0c5": {
          "model_module": "@jupyter-widgets/base",
          "model_name": "LayoutModel",
          "model_module_version": "1.2.0",
          "state": {
            "_model_module": "@jupyter-widgets/base",
            "_model_module_version": "1.2.0",
            "_model_name": "LayoutModel",
            "_view_count": null,
            "_view_module": "@jupyter-widgets/base",
            "_view_module_version": "1.2.0",
            "_view_name": "LayoutView",
            "align_content": null,
            "align_items": null,
            "align_self": null,
            "border": null,
            "bottom": null,
            "display": null,
            "flex": null,
            "flex_flow": null,
            "grid_area": null,
            "grid_auto_columns": null,
            "grid_auto_flow": null,
            "grid_auto_rows": null,
            "grid_column": null,
            "grid_gap": null,
            "grid_row": null,
            "grid_template_areas": null,
            "grid_template_columns": null,
            "grid_template_rows": null,
            "height": null,
            "justify_content": null,
            "justify_items": null,
            "left": null,
            "margin": null,
            "max_height": null,
            "max_width": null,
            "min_height": null,
            "min_width": null,
            "object_fit": null,
            "object_position": null,
            "order": null,
            "overflow": null,
            "overflow_x": null,
            "overflow_y": null,
            "padding": null,
            "right": null,
            "top": null,
            "visibility": null,
            "width": null
          }
        },
        "db6af1247cc8433599df69c87f640e71": {
          "model_module": "@jupyter-widgets/base",
          "model_name": "LayoutModel",
          "model_module_version": "1.2.0",
          "state": {
            "_model_module": "@jupyter-widgets/base",
            "_model_module_version": "1.2.0",
            "_model_name": "LayoutModel",
            "_view_count": null,
            "_view_module": "@jupyter-widgets/base",
            "_view_module_version": "1.2.0",
            "_view_name": "LayoutView",
            "align_content": null,
            "align_items": null,
            "align_self": null,
            "border": null,
            "bottom": null,
            "display": null,
            "flex": null,
            "flex_flow": null,
            "grid_area": null,
            "grid_auto_columns": null,
            "grid_auto_flow": null,
            "grid_auto_rows": null,
            "grid_column": null,
            "grid_gap": null,
            "grid_row": null,
            "grid_template_areas": null,
            "grid_template_columns": null,
            "grid_template_rows": null,
            "height": null,
            "justify_content": null,
            "justify_items": null,
            "left": null,
            "margin": null,
            "max_height": null,
            "max_width": null,
            "min_height": null,
            "min_width": null,
            "object_fit": null,
            "object_position": null,
            "order": null,
            "overflow": null,
            "overflow_x": null,
            "overflow_y": null,
            "padding": null,
            "right": null,
            "top": null,
            "visibility": null,
            "width": null
          }
        },
        "bc694f11c223432d835fdbe6270d4e21": {
          "model_module": "@jupyter-widgets/controls",
          "model_name": "DescriptionStyleModel",
          "model_module_version": "1.5.0",
          "state": {
            "_model_module": "@jupyter-widgets/controls",
            "_model_module_version": "1.5.0",
            "_model_name": "DescriptionStyleModel",
            "_view_count": null,
            "_view_module": "@jupyter-widgets/base",
            "_view_module_version": "1.2.0",
            "_view_name": "StyleView",
            "description_width": ""
          }
        },
        "a8799cbd93ed4088bc1a3cbecdebd938": {
          "model_module": "@jupyter-widgets/base",
          "model_name": "LayoutModel",
          "model_module_version": "1.2.0",
          "state": {
            "_model_module": "@jupyter-widgets/base",
            "_model_module_version": "1.2.0",
            "_model_name": "LayoutModel",
            "_view_count": null,
            "_view_module": "@jupyter-widgets/base",
            "_view_module_version": "1.2.0",
            "_view_name": "LayoutView",
            "align_content": null,
            "align_items": null,
            "align_self": null,
            "border": null,
            "bottom": null,
            "display": null,
            "flex": null,
            "flex_flow": null,
            "grid_area": null,
            "grid_auto_columns": null,
            "grid_auto_flow": null,
            "grid_auto_rows": null,
            "grid_column": null,
            "grid_gap": null,
            "grid_row": null,
            "grid_template_areas": null,
            "grid_template_columns": null,
            "grid_template_rows": null,
            "height": null,
            "justify_content": null,
            "justify_items": null,
            "left": null,
            "margin": null,
            "max_height": null,
            "max_width": null,
            "min_height": null,
            "min_width": null,
            "object_fit": null,
            "object_position": null,
            "order": null,
            "overflow": null,
            "overflow_x": null,
            "overflow_y": null,
            "padding": null,
            "right": null,
            "top": null,
            "visibility": null,
            "width": null
          }
        },
        "3d7d9476b6c74a0f872031f19024cb99": {
          "model_module": "@jupyter-widgets/controls",
          "model_name": "ProgressStyleModel",
          "model_module_version": "1.5.0",
          "state": {
            "_model_module": "@jupyter-widgets/controls",
            "_model_module_version": "1.5.0",
            "_model_name": "ProgressStyleModel",
            "_view_count": null,
            "_view_module": "@jupyter-widgets/base",
            "_view_module_version": "1.2.0",
            "_view_name": "StyleView",
            "bar_color": null,
            "description_width": ""
          }
        },
        "527401af59114616bccfbd6087d4bc80": {
          "model_module": "@jupyter-widgets/base",
          "model_name": "LayoutModel",
          "model_module_version": "1.2.0",
          "state": {
            "_model_module": "@jupyter-widgets/base",
            "_model_module_version": "1.2.0",
            "_model_name": "LayoutModel",
            "_view_count": null,
            "_view_module": "@jupyter-widgets/base",
            "_view_module_version": "1.2.0",
            "_view_name": "LayoutView",
            "align_content": null,
            "align_items": null,
            "align_self": null,
            "border": null,
            "bottom": null,
            "display": null,
            "flex": null,
            "flex_flow": null,
            "grid_area": null,
            "grid_auto_columns": null,
            "grid_auto_flow": null,
            "grid_auto_rows": null,
            "grid_column": null,
            "grid_gap": null,
            "grid_row": null,
            "grid_template_areas": null,
            "grid_template_columns": null,
            "grid_template_rows": null,
            "height": null,
            "justify_content": null,
            "justify_items": null,
            "left": null,
            "margin": null,
            "max_height": null,
            "max_width": null,
            "min_height": null,
            "min_width": null,
            "object_fit": null,
            "object_position": null,
            "order": null,
            "overflow": null,
            "overflow_x": null,
            "overflow_y": null,
            "padding": null,
            "right": null,
            "top": null,
            "visibility": null,
            "width": null
          }
        },
        "5249936c34e645348f2ced9ba20b089c": {
          "model_module": "@jupyter-widgets/controls",
          "model_name": "DescriptionStyleModel",
          "model_module_version": "1.5.0",
          "state": {
            "_model_module": "@jupyter-widgets/controls",
            "_model_module_version": "1.5.0",
            "_model_name": "DescriptionStyleModel",
            "_view_count": null,
            "_view_module": "@jupyter-widgets/base",
            "_view_module_version": "1.2.0",
            "_view_name": "StyleView",
            "description_width": ""
          }
        },
        "1cf8d1d7aa354a5291698fdb0540dd87": {
          "model_module": "@jupyter-widgets/controls",
          "model_name": "HBoxModel",
          "model_module_version": "1.5.0",
          "state": {
            "_dom_classes": [],
            "_model_module": "@jupyter-widgets/controls",
            "_model_module_version": "1.5.0",
            "_model_name": "HBoxModel",
            "_view_count": null,
            "_view_module": "@jupyter-widgets/controls",
            "_view_module_version": "1.5.0",
            "_view_name": "HBoxView",
            "box_style": "",
            "children": [
              "IPY_MODEL_cb9e38805cff419dabc392e1776de8e8",
              "IPY_MODEL_b887894573734da59efea2741e48c20f",
              "IPY_MODEL_e91ba391b49246e5ae3654133ccc400b"
            ],
            "layout": "IPY_MODEL_236013df216f486392ecb9dd27d302e6"
          }
        },
        "cb9e38805cff419dabc392e1776de8e8": {
          "model_module": "@jupyter-widgets/controls",
          "model_name": "HTMLModel",
          "model_module_version": "1.5.0",
          "state": {
            "_dom_classes": [],
            "_model_module": "@jupyter-widgets/controls",
            "_model_module_version": "1.5.0",
            "_model_name": "HTMLModel",
            "_view_count": null,
            "_view_module": "@jupyter-widgets/controls",
            "_view_module_version": "1.5.0",
            "_view_name": "HTMLView",
            "description": "",
            "description_tooltip": null,
            "layout": "IPY_MODEL_01dc23de893c448a90019006cedbec4e",
            "placeholder": "​",
            "style": "IPY_MODEL_df4f9439cb2a4f02b042e7e68f57c03a",
            "value": "100%"
          }
        },
        "b887894573734da59efea2741e48c20f": {
          "model_module": "@jupyter-widgets/controls",
          "model_name": "FloatProgressModel",
          "model_module_version": "1.5.0",
          "state": {
            "_dom_classes": [],
            "_model_module": "@jupyter-widgets/controls",
            "_model_module_version": "1.5.0",
            "_model_name": "FloatProgressModel",
            "_view_count": null,
            "_view_module": "@jupyter-widgets/controls",
            "_view_module_version": "1.5.0",
            "_view_name": "ProgressView",
            "bar_style": "success",
            "description": "",
            "description_tooltip": null,
            "layout": "IPY_MODEL_b042447509ad421488564829fcdf2990",
            "max": 4542,
            "min": 0,
            "orientation": "horizontal",
            "style": "IPY_MODEL_7325fa079253459baff4989b121643df",
            "value": 4542
          }
        },
        "e91ba391b49246e5ae3654133ccc400b": {
          "model_module": "@jupyter-widgets/controls",
          "model_name": "HTMLModel",
          "model_module_version": "1.5.0",
          "state": {
            "_dom_classes": [],
            "_model_module": "@jupyter-widgets/controls",
            "_model_module_version": "1.5.0",
            "_model_name": "HTMLModel",
            "_view_count": null,
            "_view_module": "@jupyter-widgets/controls",
            "_view_module_version": "1.5.0",
            "_view_name": "HTMLView",
            "description": "",
            "description_tooltip": null,
            "layout": "IPY_MODEL_7cee011fa7e44b35a9fa970e7b847292",
            "placeholder": "​",
            "style": "IPY_MODEL_97074c6137e940f196614120cea8832a",
            "value": " 4542/4542 [00:00&lt;00:00, 13431.30it/s]"
          }
        },
        "236013df216f486392ecb9dd27d302e6": {
          "model_module": "@jupyter-widgets/base",
          "model_name": "LayoutModel",
          "model_module_version": "1.2.0",
          "state": {
            "_model_module": "@jupyter-widgets/base",
            "_model_module_version": "1.2.0",
            "_model_name": "LayoutModel",
            "_view_count": null,
            "_view_module": "@jupyter-widgets/base",
            "_view_module_version": "1.2.0",
            "_view_name": "LayoutView",
            "align_content": null,
            "align_items": null,
            "align_self": null,
            "border": null,
            "bottom": null,
            "display": null,
            "flex": null,
            "flex_flow": null,
            "grid_area": null,
            "grid_auto_columns": null,
            "grid_auto_flow": null,
            "grid_auto_rows": null,
            "grid_column": null,
            "grid_gap": null,
            "grid_row": null,
            "grid_template_areas": null,
            "grid_template_columns": null,
            "grid_template_rows": null,
            "height": null,
            "justify_content": null,
            "justify_items": null,
            "left": null,
            "margin": null,
            "max_height": null,
            "max_width": null,
            "min_height": null,
            "min_width": null,
            "object_fit": null,
            "object_position": null,
            "order": null,
            "overflow": null,
            "overflow_x": null,
            "overflow_y": null,
            "padding": null,
            "right": null,
            "top": null,
            "visibility": null,
            "width": null
          }
        },
        "01dc23de893c448a90019006cedbec4e": {
          "model_module": "@jupyter-widgets/base",
          "model_name": "LayoutModel",
          "model_module_version": "1.2.0",
          "state": {
            "_model_module": "@jupyter-widgets/base",
            "_model_module_version": "1.2.0",
            "_model_name": "LayoutModel",
            "_view_count": null,
            "_view_module": "@jupyter-widgets/base",
            "_view_module_version": "1.2.0",
            "_view_name": "LayoutView",
            "align_content": null,
            "align_items": null,
            "align_self": null,
            "border": null,
            "bottom": null,
            "display": null,
            "flex": null,
            "flex_flow": null,
            "grid_area": null,
            "grid_auto_columns": null,
            "grid_auto_flow": null,
            "grid_auto_rows": null,
            "grid_column": null,
            "grid_gap": null,
            "grid_row": null,
            "grid_template_areas": null,
            "grid_template_columns": null,
            "grid_template_rows": null,
            "height": null,
            "justify_content": null,
            "justify_items": null,
            "left": null,
            "margin": null,
            "max_height": null,
            "max_width": null,
            "min_height": null,
            "min_width": null,
            "object_fit": null,
            "object_position": null,
            "order": null,
            "overflow": null,
            "overflow_x": null,
            "overflow_y": null,
            "padding": null,
            "right": null,
            "top": null,
            "visibility": null,
            "width": null
          }
        },
        "df4f9439cb2a4f02b042e7e68f57c03a": {
          "model_module": "@jupyter-widgets/controls",
          "model_name": "DescriptionStyleModel",
          "model_module_version": "1.5.0",
          "state": {
            "_model_module": "@jupyter-widgets/controls",
            "_model_module_version": "1.5.0",
            "_model_name": "DescriptionStyleModel",
            "_view_count": null,
            "_view_module": "@jupyter-widgets/base",
            "_view_module_version": "1.2.0",
            "_view_name": "StyleView",
            "description_width": ""
          }
        },
        "b042447509ad421488564829fcdf2990": {
          "model_module": "@jupyter-widgets/base",
          "model_name": "LayoutModel",
          "model_module_version": "1.2.0",
          "state": {
            "_model_module": "@jupyter-widgets/base",
            "_model_module_version": "1.2.0",
            "_model_name": "LayoutModel",
            "_view_count": null,
            "_view_module": "@jupyter-widgets/base",
            "_view_module_version": "1.2.0",
            "_view_name": "LayoutView",
            "align_content": null,
            "align_items": null,
            "align_self": null,
            "border": null,
            "bottom": null,
            "display": null,
            "flex": null,
            "flex_flow": null,
            "grid_area": null,
            "grid_auto_columns": null,
            "grid_auto_flow": null,
            "grid_auto_rows": null,
            "grid_column": null,
            "grid_gap": null,
            "grid_row": null,
            "grid_template_areas": null,
            "grid_template_columns": null,
            "grid_template_rows": null,
            "height": null,
            "justify_content": null,
            "justify_items": null,
            "left": null,
            "margin": null,
            "max_height": null,
            "max_width": null,
            "min_height": null,
            "min_width": null,
            "object_fit": null,
            "object_position": null,
            "order": null,
            "overflow": null,
            "overflow_x": null,
            "overflow_y": null,
            "padding": null,
            "right": null,
            "top": null,
            "visibility": null,
            "width": null
          }
        },
        "7325fa079253459baff4989b121643df": {
          "model_module": "@jupyter-widgets/controls",
          "model_name": "ProgressStyleModel",
          "model_module_version": "1.5.0",
          "state": {
            "_model_module": "@jupyter-widgets/controls",
            "_model_module_version": "1.5.0",
            "_model_name": "ProgressStyleModel",
            "_view_count": null,
            "_view_module": "@jupyter-widgets/base",
            "_view_module_version": "1.2.0",
            "_view_name": "StyleView",
            "bar_color": null,
            "description_width": ""
          }
        },
        "7cee011fa7e44b35a9fa970e7b847292": {
          "model_module": "@jupyter-widgets/base",
          "model_name": "LayoutModel",
          "model_module_version": "1.2.0",
          "state": {
            "_model_module": "@jupyter-widgets/base",
            "_model_module_version": "1.2.0",
            "_model_name": "LayoutModel",
            "_view_count": null,
            "_view_module": "@jupyter-widgets/base",
            "_view_module_version": "1.2.0",
            "_view_name": "LayoutView",
            "align_content": null,
            "align_items": null,
            "align_self": null,
            "border": null,
            "bottom": null,
            "display": null,
            "flex": null,
            "flex_flow": null,
            "grid_area": null,
            "grid_auto_columns": null,
            "grid_auto_flow": null,
            "grid_auto_rows": null,
            "grid_column": null,
            "grid_gap": null,
            "grid_row": null,
            "grid_template_areas": null,
            "grid_template_columns": null,
            "grid_template_rows": null,
            "height": null,
            "justify_content": null,
            "justify_items": null,
            "left": null,
            "margin": null,
            "max_height": null,
            "max_width": null,
            "min_height": null,
            "min_width": null,
            "object_fit": null,
            "object_position": null,
            "order": null,
            "overflow": null,
            "overflow_x": null,
            "overflow_y": null,
            "padding": null,
            "right": null,
            "top": null,
            "visibility": null,
            "width": null
          }
        },
        "97074c6137e940f196614120cea8832a": {
          "model_module": "@jupyter-widgets/controls",
          "model_name": "DescriptionStyleModel",
          "model_module_version": "1.5.0",
          "state": {
            "_model_module": "@jupyter-widgets/controls",
            "_model_module_version": "1.5.0",
            "_model_name": "DescriptionStyleModel",
            "_view_count": null,
            "_view_module": "@jupyter-widgets/base",
            "_view_module_version": "1.2.0",
            "_view_name": "StyleView",
            "description_width": ""
          }
        }
      }
    }
  },
  "cells": [
    {
      "cell_type": "markdown",
      "metadata": {
        "id": "view-in-github",
        "colab_type": "text"
      },
      "source": [
        "<a href=\"https://colab.research.google.com/github/Banafshehkh/ComputerVision/blob/main/DL4Vision_A2_1.ipynb\" target=\"_parent\"><img src=\"https://colab.research.google.com/assets/colab-badge.svg\" alt=\"Open In Colab\"/></a>"
      ]
    },
    {
      "cell_type": "markdown",
      "source": [
        "# Assignment 2\n",
        "In this assignment, we will use a multi-layer perceptron network to build an image classifier for single digits. We will be using a public dataset for model development. The dataset we will be using is the MNIST digit dataset. The dataset contains 10 classes, where class `i` contains images of digit `i`."
      ],
      "metadata": {
        "id": "-_eG2sW1MQrV"
      }
    },
    {
      "cell_type": "markdown",
      "source": [
        "Source: https://nextjournal.com/gkoehler/pytorch-mnist\n",
        "\n",
        "https://www.projectpro.io/article/exploring-mnist-dataset-using-pytorch-to-train-an-mlp/408\n",
        "\n",
        "https://jamesmccaffrey.wordpress.com/2019/01/23/pytorch-train-vs-eval-mode/"
      ],
      "metadata": {
        "id": "L1n3FqPIXbyD"
      }
    },
    {
      "cell_type": "code",
      "execution_count": 1,
      "metadata": {
        "id": "BOMls6CLGyUr"
      },
      "outputs": [],
      "source": [
        "import torch\n",
        "import torch.nn as nn\n",
        "import torchvision\n",
        "from torchvision import datasets\n",
        "from torch.utils.data import Dataset, DataLoader, random_split\n",
        "import numpy as np\n",
        "from torchvision import datasets, transforms\n",
        "import torch\n",
        "from torch.utils.data import Dataset\n",
        "from torchvision import datasets\n",
        "from torchvision.transforms import ToTensor\n",
        "import torch.nn.functional as F\n",
        "\n",
        "\n",
        "\n",
        "\n",
        "import matplotlib.pyplot as plt"
      ]
    },
    {
      "cell_type": "markdown",
      "source": [
        "####1. Create train_data and test_dataset objects using the MNIST digit dataset from torchvision.datasets module. (5 points)"
      ],
      "metadata": {
        "id": "Ao4fnByOPKmT"
      }
    },
    {
      "cell_type": "code",
      "source": [
        "train_data = torchvision.datasets.MNIST('data', train=True, download=True,\n",
        "                             transform=torchvision.transforms.Compose([\n",
        "                               torchvision.transforms.ToTensor(),\n",
        "                               torchvision.transforms.Normalize(\n",
        "                                 (0.1307,), (0.3081,))\n",
        "                             ]))\n",
        "\n",
        "\n",
        "\n",
        "\n",
        "test_data = torchvision.datasets.MNIST('data', train=False, download=True,\n",
        "                             transform=torchvision.transforms.Compose([\n",
        "                               torchvision.transforms.ToTensor(),\n",
        "                               torchvision.transforms.Normalize(\n",
        "                                 (0.1307,), (0.3081,))\n",
        "                             ]))"
      ],
      "metadata": {
        "id": "9tLsPKsAPJOu",
        "colab": {
          "base_uri": "https://localhost:8080/",
          "height": 431,
          "referenced_widgets": [
            "d819eb1759bb495daf1413a9e3efb2d2",
            "ef31d490a7694b969ebc8cb9daaa33f4",
            "722cbb7690c943bdb05d030e3fb40a8e",
            "4da115d1a7d44b09b16fb048f7377ac6",
            "78a8691e1cc549a4a93d335f1584898b",
            "48e5897ad4ae4554aaac0586d0dfdf7d",
            "0e6a8fbc9e5c4843b2a315632fcd5df6",
            "69372746c0f74153afc63ab313451cac",
            "a27407cb306742469d30279bbfe4174f",
            "56ee5bcc89684bf3abe08d8757ee4759",
            "72b82410d0dc4ad094a45843a25839d3",
            "a08468562a984c2881f58bc035aae125",
            "80df466827074c23bed8c230fdb1999d",
            "369b5df4eee54e3d9b97beec56b6d87f",
            "be1348774f584cc0be252f2c2e783998",
            "a23d2d58d63145afb38c6d3a436740ca",
            "ba68a89d529b4e4cab0946546f37fa6f",
            "af89abce3913499c9c1775899aae595b",
            "5fd1be278ae9475e8ff6efcf9ff8ad58",
            "498502be03274a5fae5fca0ccac5c670",
            "66bf00c37cce49d497057c21c477674e",
            "e15f5e2b0416432b8fd30ec661894c65",
            "12fb74a04db2486d81d73cdbae1b8721",
            "55764d065c294647b9c049ba825f02f8",
            "8c6a11e24de54ae182e1f48123f115e0",
            "dad8b1051cc64603855ff0f5c54e1990",
            "2335a2a29d4d407989b29d5ea7afb0c5",
            "db6af1247cc8433599df69c87f640e71",
            "bc694f11c223432d835fdbe6270d4e21",
            "a8799cbd93ed4088bc1a3cbecdebd938",
            "3d7d9476b6c74a0f872031f19024cb99",
            "527401af59114616bccfbd6087d4bc80",
            "5249936c34e645348f2ced9ba20b089c",
            "1cf8d1d7aa354a5291698fdb0540dd87",
            "cb9e38805cff419dabc392e1776de8e8",
            "b887894573734da59efea2741e48c20f",
            "e91ba391b49246e5ae3654133ccc400b",
            "236013df216f486392ecb9dd27d302e6",
            "01dc23de893c448a90019006cedbec4e",
            "df4f9439cb2a4f02b042e7e68f57c03a",
            "b042447509ad421488564829fcdf2990",
            "7325fa079253459baff4989b121643df",
            "7cee011fa7e44b35a9fa970e7b847292",
            "97074c6137e940f196614120cea8832a"
          ]
        },
        "outputId": "4ef61eef-a1ab-412d-fe0c-6e41c804d850"
      },
      "execution_count": 2,
      "outputs": [
        {
          "output_type": "stream",
          "name": "stdout",
          "text": [
            "Downloading http://yann.lecun.com/exdb/mnist/train-images-idx3-ubyte.gz\n",
            "Downloading http://yann.lecun.com/exdb/mnist/train-images-idx3-ubyte.gz to data/MNIST/raw/train-images-idx3-ubyte.gz\n"
          ]
        },
        {
          "output_type": "display_data",
          "data": {
            "text/plain": [
              "  0%|          | 0/9912422 [00:00<?, ?it/s]"
            ],
            "application/vnd.jupyter.widget-view+json": {
              "version_major": 2,
              "version_minor": 0,
              "model_id": "d819eb1759bb495daf1413a9e3efb2d2"
            }
          },
          "metadata": {}
        },
        {
          "output_type": "stream",
          "name": "stdout",
          "text": [
            "Extracting data/MNIST/raw/train-images-idx3-ubyte.gz to data/MNIST/raw\n",
            "\n",
            "Downloading http://yann.lecun.com/exdb/mnist/train-labels-idx1-ubyte.gz\n",
            "Downloading http://yann.lecun.com/exdb/mnist/train-labels-idx1-ubyte.gz to data/MNIST/raw/train-labels-idx1-ubyte.gz\n"
          ]
        },
        {
          "output_type": "display_data",
          "data": {
            "text/plain": [
              "  0%|          | 0/28881 [00:00<?, ?it/s]"
            ],
            "application/vnd.jupyter.widget-view+json": {
              "version_major": 2,
              "version_minor": 0,
              "model_id": "a08468562a984c2881f58bc035aae125"
            }
          },
          "metadata": {}
        },
        {
          "output_type": "stream",
          "name": "stdout",
          "text": [
            "Extracting data/MNIST/raw/train-labels-idx1-ubyte.gz to data/MNIST/raw\n",
            "\n",
            "Downloading http://yann.lecun.com/exdb/mnist/t10k-images-idx3-ubyte.gz\n",
            "Downloading http://yann.lecun.com/exdb/mnist/t10k-images-idx3-ubyte.gz to data/MNIST/raw/t10k-images-idx3-ubyte.gz\n"
          ]
        },
        {
          "output_type": "display_data",
          "data": {
            "text/plain": [
              "  0%|          | 0/1648877 [00:00<?, ?it/s]"
            ],
            "application/vnd.jupyter.widget-view+json": {
              "version_major": 2,
              "version_minor": 0,
              "model_id": "12fb74a04db2486d81d73cdbae1b8721"
            }
          },
          "metadata": {}
        },
        {
          "output_type": "stream",
          "name": "stdout",
          "text": [
            "Extracting data/MNIST/raw/t10k-images-idx3-ubyte.gz to data/MNIST/raw\n",
            "\n",
            "Downloading http://yann.lecun.com/exdb/mnist/t10k-labels-idx1-ubyte.gz\n",
            "Downloading http://yann.lecun.com/exdb/mnist/t10k-labels-idx1-ubyte.gz to data/MNIST/raw/t10k-labels-idx1-ubyte.gz\n"
          ]
        },
        {
          "output_type": "display_data",
          "data": {
            "text/plain": [
              "  0%|          | 0/4542 [00:00<?, ?it/s]"
            ],
            "application/vnd.jupyter.widget-view+json": {
              "version_major": 2,
              "version_minor": 0,
              "model_id": "1cf8d1d7aa354a5291698fdb0540dd87"
            }
          },
          "metadata": {}
        },
        {
          "output_type": "stream",
          "name": "stdout",
          "text": [
            "Extracting data/MNIST/raw/t10k-labels-idx1-ubyte.gz to data/MNIST/raw\n",
            "\n"
          ]
        }
      ]
    },
    {
      "cell_type": "code",
      "source": [
        "image, label = train_data[0]\n",
        "print(\"image shape:\", image.shape, \"\\n\", \"image label:\", label)"
      ],
      "metadata": {
        "colab": {
          "base_uri": "https://localhost:8080/"
        },
        "id": "Ev9uzuM8WayA",
        "outputId": "1ffa9582-f8d9-452d-f1ad-907855cac71b"
      },
      "execution_count": 3,
      "outputs": [
        {
          "output_type": "stream",
          "name": "stdout",
          "text": [
            "image shape: torch.Size([1, 28, 28]) \n",
            " image label: 5\n"
          ]
        }
      ]
    },
    {
      "cell_type": "code",
      "source": [
        "from matplotlib.pyplot import figure\n",
        "\n",
        "\n",
        "def visulaize(image, label):\n",
        "  \n",
        "  figure(figsize=(15, 8), dpi=80)\n",
        "  plt.figure()\n",
        "  plt.imshow(image.numpy()[0], cmap = 'gray')\n",
        "  plt.title(str(label))\n",
        "  plt.xticks([])\n",
        "  plt.yticks([])"
      ],
      "metadata": {
        "id": "2e5oU8DDW9-P"
      },
      "execution_count": 4,
      "outputs": []
    },
    {
      "cell_type": "code",
      "source": [
        "visulaize(image, label) # first image with its label"
      ],
      "metadata": {
        "colab": {
          "base_uri": "https://localhost:8080/",
          "height": 286
        },
        "id": "OxccdsRXXJ6i",
        "outputId": "57c7146a-1a6c-405f-fe5b-791536439a4b"
      },
      "execution_count": 5,
      "outputs": [
        {
          "output_type": "display_data",
          "data": {
            "text/plain": [
              "<Figure size 1200x640 with 0 Axes>"
            ]
          },
          "metadata": {}
        },
        {
          "output_type": "display_data",
          "data": {
            "text/plain": [
              "<Figure size 432x288 with 1 Axes>"
            ],
            "image/png": "[encoded data removed]"
          },
          "metadata": {}
        }
      ]
    },
    {
      "cell_type": "markdown",
      "source": [
        "####2. Use the [random_split](https://pytorch.org/docs/stable/data.html#torch.utils.data.random_split) method to split the `train_data` into `train_dataset` (50000 images) and `validation_dataset` dataset (10000 images). (5 points)"
      ],
      "metadata": {
        "id": "JXbRPNvvQ3s5"
      }
    },
    {
      "cell_type": "code",
      "source": [
        "train_data, val_data = torch.utils.data.random_split(train_data, [50000, 10000], generator=torch.Generator().manual_seed(42))"
      ],
      "metadata": {
        "id": "eMHxma1VXSDE"
      },
      "execution_count": 6,
      "outputs": []
    },
    {
      "cell_type": "code",
      "source": [
        "image, label = val_data[0]\n",
        "print(\"image shape:\", image.shape, \"\\n\", \"image label:\", label)"
      ],
      "metadata": {
        "colab": {
          "base_uri": "https://localhost:8080/"
        },
        "id": "ZTx1a_kMcyYU",
        "outputId": "7e51c8c1-8cfa-4153-dc1f-0109b34aa256"
      },
      "execution_count": 7,
      "outputs": [
        {
          "output_type": "stream",
          "name": "stdout",
          "text": [
            "image shape: torch.Size([1, 28, 28]) \n",
            " image label: 4\n"
          ]
        }
      ]
    },
    {
      "cell_type": "markdown",
      "source": [
        "#### 3. Create dataloader objects for `train_dataset`, `validation_dataset`, and `test_dataset`. (5 points)"
      ],
      "metadata": {
        "id": "Pej9bS2lfFkb"
      }
    },
    {
      "cell_type": "code",
      "source": [
        "train_dataloader = DataLoader(train_data, 32, shuffle = True )\n",
        "validation_dataloader = DataLoader(val_data, 32, shuffle = False )\n",
        "test_dataloader = DataLoader(test_data, 32, shuffle = False )"
      ],
      "metadata": {
        "id": "xd1zHUocfazi"
      },
      "execution_count": 8,
      "outputs": []
    },
    {
      "cell_type": "markdown",
      "source": [
        "#### 4. Develop an MLP model for classifying MNIST images. The developed model should have four hidden layers of 256, 1228, 64, and 32 neurons. Each hidden layer should be followed with a ReLU unit and a Dropout layer (p=0.2).  (15 points)"
      ],
      "metadata": {
        "id": "3_R2J6A1ahUS"
      }
    },
    {
      "cell_type": "markdown",
      "source": [
        "The pixels in the images will be flattened to form an array of 784-pixel values."
      ],
      "metadata": {
        "id": "uJDkW2hyqnV-"
      }
    },
    {
      "cell_type": "code",
      "source": [
        "# class MLP(nn.Module):\n",
        "\n",
        "#   def __init__(self, input_size = 784, output_size = 10, layers = [256, 128, 64, 32]):\n",
        "#     super(MLP, self).__init__()\n",
        "#     self.d1 = nn.Linear(input_size, layers[0]) #hidden_layer1\n",
        "#     self.d2 = nn.Linear(layers[0], layers[1]) #hidden_layer2\n",
        "#     self.d3 = nn.Linear(layers[1], layers[2]) #hiddenn_layer3\n",
        "#     self.d4 = nn.Linear(layers[2], layers[3]) #hiddenn_layer4\n",
        "#     self.d5 = nn.Linear(layers[3], output_size) #output layer\n",
        "#     self.dropout = nn.Dropout(p = 0.2)\n",
        "\n",
        "\n",
        "\n",
        "#   def forward(self, X):\n",
        "#     X = X.view(-1, 28*28)\n",
        "#     X = F.relu(self.d1(X))\n",
        "#     X = self.dropout(X)\n",
        "#     X = F.relu(self.d2(X))\n",
        "#     X = self.dropout(X)\n",
        "#     X = F.relu(self.d3(X))\n",
        "#     X = self.dropout(X)\n",
        "#     X = F.relu(self.d4(X))\n",
        "#     X = self.dropout(X)\n",
        "#     X = self.d5(X)\n",
        "#     return F.log_softmax(X, dim = 1)\n"
      ],
      "metadata": {
        "id": "WNsJAsisbdWm"
      },
      "execution_count": 9,
      "outputs": []
    },
    {
      "cell_type": "code",
      "source": [
        "# class MLP(nn.Module):\n",
        "\n",
        "#   def __init__(self, input_size=784, output_size=10, layers=[256, 128, 64, 32]):\n",
        "#     super(MLP, self).__init__()\n",
        "\n",
        "#     # Define layers using nn.Sequential\n",
        "#     layers_list = []\n",
        "#     layers_list.append(nn.Linear(input_size, layers[0]))\n",
        "#     layers_list.append(nn.ReLU())\n",
        "#     layers_list.append(nn.Dropout(p=0.2))\n",
        "\n",
        "#     for i in range(len(layers)-1):\n",
        "#         layers_list.append(nn.Linear(layers[i], layers[i+1]))\n",
        "#         layers_list.append(nn.ReLU())\n",
        "#         layers_list.append(nn.Dropout(p=0.2))\n",
        "\n",
        "#     layers_list.append(nn.Linear(layers[-1], output_size))\n",
        "#     layers_list.append(nn.LogSoftmax(dim=1))\n",
        "\n",
        "#     self.mlp = nn.Sequential(*layers_list)\n",
        "\n",
        "#   def forward(self, x):\n",
        "#     x = x.view(-1, 28*28)\n",
        "#     x = self.mlp(x)\n",
        "#     return x\n"
      ],
      "metadata": {
        "id": "Ls6oBV1V9rjX"
      },
      "execution_count": 10,
      "outputs": []
    },
    {
      "cell_type": "code",
      "source": [
        "model = nn.Sequential(\n",
        "        nn.Flatten(),\n",
        "\n",
        "        nn.Linear(28*28, 256),\n",
        "        nn.ReLU(),\n",
        "        nn.Dropout(p=0.2),\n",
        "\n",
        "        nn.Linear(256, 128),\n",
        "        nn.ReLU(),\n",
        "        nn.Dropout(p=0.2),\n",
        "\n",
        "        nn.Linear(128,64),\n",
        "        nn.ReLU(),\n",
        "        nn.Dropout(p=0.2),\n",
        "\n",
        "        nn.Linear(64,32),\n",
        "        nn.ReLU(),\n",
        "        nn.Dropout(p=0.2),\n",
        "\n",
        "        nn.Linear(32,10)\n",
        "    )"
      ],
      "metadata": {
        "id": "450md7WG4VOt"
      },
      "execution_count": 11,
      "outputs": []
    },
    {
      "cell_type": "code",
      "source": [
        "# model = MLP()\n",
        "# print(model)"
      ],
      "metadata": {
        "id": "bMpS6WVBtDZ1"
      },
      "execution_count": 12,
      "outputs": []
    },
    {
      "cell_type": "markdown",
      "source": [
        "#### 5. Define the components needed for training a deep learning model. (10 points)\n",
        "\n"
      ],
      "metadata": {
        "id": "tZnMNV1Id_n1"
      }
    },
    {
      "cell_type": "markdown",
      "source": [
        "In general training a deep learning model typically involves the following components:\n",
        "1. Data: A training dataset and a validation dataset that the model will learn from and test on, respectively. The data should be split into inputs (features) and targets (labels).\n",
        "\n",
        "2. Model architecture: The structure of the model, including the number of layers, the number of neurons in each layer, the activation functions, and the type of layers (e.g. dense, convolutional, recurrent).\n",
        "\n",
        "3. Loss function: A measure of the difference between the predicted labels and the true labels. The loss function guides the model's learning process by penalizing incorrect predictions. \n",
        "\n",
        "4. Optimizer: A mathematical algorithm that adjusts the model's parameters in order to minimize the loss function. Examples of optimizers include stochastic gradient descent (SGD), Adam, and Adagrad.\n",
        "\n",
        "5. Hyperparameters: Parameters that are not learned by the model during training, but are set before training begins. Examples of hyperparameters include the learning rate, batch size, and number of training epochs.\n",
        "\n",
        "6. Training loop: A loop that trains the model over multiple epochs by splitting the training data into batches, forwarding the input through the model to obtain predictions, computing the loss, updating the model's parameters with the optimizer, and repeating until all the training data has been seen.\n",
        "\n",
        "7. Evaluation metric: A measure of how well the model is performing, such as accuracy, F1 score, or AUC. The evaluation metric is used to monitor the model's performance on the validation dataset.\n",
        "\n",
        "8. Early stopping: A mechanism that stops the training loop early if the model's performance on the validation dataset does not improve for a certain number of epochs, in order to avoid overfitting.\n",
        "\n"
      ],
      "metadata": {
        "id": "PY80I5fq6Z8t"
      }
    },
    {
      "cell_type": "code",
      "source": [
        "batch_size = 32\n",
        "num_epochs =100\n",
        "criterion = nn.CrossEntropyLoss()\n",
        "optimizer = torch.optim.SGD(model.parameters(), lr = 0.01, momentum=0.7)"
      ],
      "metadata": {
        "id": "pRK8g7fHuWwk"
      },
      "execution_count": 13,
      "outputs": []
    },
    {
      "cell_type": "markdown",
      "source": [
        "#### 6. Write the training loop and train the model for 100 epochs. Print the training and validation accuracy and loss for each epoch. (35 points)"
      ],
      "metadata": {
        "id": "T8uSNlodMVw-"
      }
    },
    {
      "cell_type": "code",
      "source": [
        "for images, labels in train_dataloader:\n",
        "  print('initial batch shape:', images.size())\n",
        "  break\n",
        "print(\"Batch shape after flattening\", images.view(32, -1).size())"
      ],
      "metadata": {
        "id": "0nT3ixTAQ4QQ",
        "colab": {
          "base_uri": "https://localhost:8080/"
        },
        "outputId": "e6b8a346-8ced-4ddb-9ccb-0d7bedf68897"
      },
      "execution_count": 14,
      "outputs": [
        {
          "output_type": "stream",
          "name": "stdout",
          "text": [
            "initial batch shape: torch.Size([32, 1, 28, 28])\n",
            "Batch shape after flattening torch.Size([32, 784])\n"
          ]
        }
      ]
    },
    {
      "cell_type": "markdown",
      "source": [
        "I trained the model for 100 epochs, with each consisting of a training and a validation phase. the training phase evaluates the model on the validation set and calculates the validation loss and accuracy. Finally, the code tests the model on the test set and prints the test accuracy. "
      ],
      "metadata": {
        "id": "yPDAH3xIRMCj"
      }
    },
    {
      "cell_type": "code",
      "source": [
        "# # Initialize the model, loss function, and optimizer\n",
        "# model = MLP()\n",
        "\n",
        "model = model.train()\n",
        "\n",
        "\n",
        "\n",
        "for epoch in range(num_epochs):\n",
        "    running_loss = 0\n",
        "    for inputs, labels in train_dataloader:\n",
        "        \n",
        "        optimizer.zero_grad()\n",
        "        outputs = model(inputs)\n",
        "        loss = criterion(outputs, labels)\n",
        "        loss.backward()\n",
        "        optimizer.step()\n",
        "        running_loss += loss.item()\n",
        "    train_loss = running_loss / len(train_dataloader)\n",
        "    # print('Epoch {}: train loss: {:.4f}'.format(epoch + 1, train_loss))\n",
        "\n",
        "    correct = 0\n",
        "    total = 0\n",
        "    with torch.no_grad():\n",
        "        for inputs, labels in train_dataloader:\n",
        "            outputs = model(inputs)\n",
        "            _, predicted = torch.max(outputs.data, 1)\n",
        "            total += labels.size(0)\n",
        "            correct += (predicted == labels).sum().item()\n",
        "    train_acc = 100 * correct / total\n",
        "    # print('Epoch {}: train accuracy: {:.2f}%'.format(epoch + 1, train_accuracy))\n",
        "\n",
        "    correct = 0\n",
        "    total = 0\n",
        "    with torch.no_grad():\n",
        "        for inputs, labels in validation_dataloader:\n",
        "            outputs = model(inputs)\n",
        "            loss = criterion(outputs, labels)\n",
        "            _, predicted = torch.max(outputs.data, 1)\n",
        "            total += labels.size(0)\n",
        "            correct += (predicted == labels).sum().item()\n",
        "    val_acc = 100 * correct / total\n",
        "    val_loss = loss.item() / len(validation_dataloader)\n",
        "    # print('Epoch {}: validation accuracy: {:.2f}%, validation loss: {:.4f}'.format(epoch + 1, accuracy, validation_loss))\n",
        "    print('Epoch [{}/{}], Loss: {:.4f}, Acc:{:.4f}, Val Loss: {:.4f}, Val Acc: {:.4f}'.format(epoch + 1, num_epochs, train_loss, train_acc, val_loss, val_acc))\n",
        "\n",
        "print('Finished training.')\n",
        "\n",
        "\n",
        "\n"
      ],
      "metadata": {
        "id": "JA-TjNK_6HMZ",
        "colab": {
          "base_uri": "https://localhost:8080/"
        },
        "outputId": "d367a605-78ce-44f3-85b7-27e57b5f1526"
      },
      "execution_count": 15,
      "outputs": [
        {
          "output_type": "stream",
          "name": "stdout",
          "text": [
            "Epoch [1/100], Loss: 0.9264, Acc:90.8920, Val Loss: 0.0008, Val Acc: 90.5900\n",
            "Epoch [2/100], Loss: 0.2754, Acc:94.7940, Val Loss: 0.0008, Val Acc: 93.6700\n",
            "Epoch [3/100], Loss: 0.1941, Acc:95.6780, Val Loss: 0.0013, Val Acc: 94.4400\n",
            "Epoch [4/100], Loss: 0.1532, Acc:96.5280, Val Loss: 0.0006, Val Acc: 95.2900\n",
            "Epoch [5/100], Loss: 0.1303, Acc:97.0160, Val Loss: 0.0002, Val Acc: 95.8100\n",
            "Epoch [6/100], Loss: 0.1139, Acc:97.4120, Val Loss: 0.0002, Val Acc: 96.1400\n",
            "Epoch [7/100], Loss: 0.1010, Acc:97.6280, Val Loss: 0.0006, Val Acc: 96.0900\n",
            "Epoch [8/100], Loss: 0.0906, Acc:97.9180, Val Loss: 0.0009, Val Acc: 96.4000\n",
            "Epoch [9/100], Loss: 0.0809, Acc:98.1300, Val Loss: 0.0003, Val Acc: 96.4300\n",
            "Epoch [10/100], Loss: 0.0779, Acc:98.3080, Val Loss: 0.0000, Val Acc: 96.5700\n",
            "Epoch [11/100], Loss: 0.0701, Acc:98.4020, Val Loss: 0.0002, Val Acc: 96.7600\n",
            "Epoch [12/100], Loss: 0.0648, Acc:98.5720, Val Loss: 0.0000, Val Acc: 96.7500\n",
            "Epoch [13/100], Loss: 0.0597, Acc:98.3800, Val Loss: 0.0001, Val Acc: 96.6500\n",
            "Epoch [14/100], Loss: 0.0570, Acc:98.5440, Val Loss: 0.0006, Val Acc: 96.5400\n",
            "Epoch [15/100], Loss: 0.0539, Acc:98.6200, Val Loss: 0.0001, Val Acc: 96.7300\n",
            "Epoch [16/100], Loss: 0.0517, Acc:98.8620, Val Loss: 0.0003, Val Acc: 97.0400\n",
            "Epoch [17/100], Loss: 0.0473, Acc:98.7280, Val Loss: 0.0006, Val Acc: 96.6800\n",
            "Epoch [18/100], Loss: 0.0448, Acc:98.8960, Val Loss: 0.0001, Val Acc: 97.0400\n",
            "Epoch [19/100], Loss: 0.0437, Acc:98.8240, Val Loss: 0.0000, Val Acc: 96.5200\n",
            "Epoch [20/100], Loss: 0.0429, Acc:98.8160, Val Loss: 0.0000, Val Acc: 96.8400\n",
            "Epoch [21/100], Loss: 0.0387, Acc:98.9620, Val Loss: 0.0000, Val Acc: 97.0400\n",
            "Epoch [22/100], Loss: 0.0367, Acc:99.1600, Val Loss: 0.0007, Val Acc: 97.1600\n",
            "Epoch [23/100], Loss: 0.0363, Acc:99.1180, Val Loss: 0.0016, Val Acc: 97.1500\n",
            "Epoch [24/100], Loss: 0.0328, Acc:99.0920, Val Loss: 0.0001, Val Acc: 97.1400\n",
            "Epoch [25/100], Loss: 0.0345, Acc:99.1980, Val Loss: 0.0000, Val Acc: 97.0700\n",
            "Epoch [26/100], Loss: 0.0329, Acc:99.1020, Val Loss: 0.0001, Val Acc: 97.1600\n",
            "Epoch [27/100], Loss: 0.0301, Acc:99.1860, Val Loss: 0.0001, Val Acc: 97.0700\n",
            "Epoch [28/100], Loss: 0.0289, Acc:99.2540, Val Loss: 0.0001, Val Acc: 97.1900\n",
            "Epoch [29/100], Loss: 0.0281, Acc:99.3420, Val Loss: 0.0004, Val Acc: 97.4300\n",
            "Epoch [30/100], Loss: 0.0287, Acc:99.3620, Val Loss: 0.0004, Val Acc: 97.1900\n",
            "Epoch [31/100], Loss: 0.0255, Acc:99.2760, Val Loss: 0.0001, Val Acc: 97.1500\n",
            "Epoch [32/100], Loss: 0.0273, Acc:99.3260, Val Loss: 0.0001, Val Acc: 97.2000\n",
            "Epoch [33/100], Loss: 0.0275, Acc:99.2960, Val Loss: 0.0000, Val Acc: 97.0500\n",
            "Epoch [34/100], Loss: 0.0260, Acc:99.4220, Val Loss: 0.0000, Val Acc: 97.4000\n",
            "Epoch [35/100], Loss: 0.0227, Acc:99.4120, Val Loss: 0.0000, Val Acc: 97.1400\n",
            "Epoch [36/100], Loss: 0.0253, Acc:99.4060, Val Loss: 0.0000, Val Acc: 97.3100\n",
            "Epoch [37/100], Loss: 0.0229, Acc:99.4200, Val Loss: 0.0011, Val Acc: 97.2800\n",
            "Epoch [38/100], Loss: 0.0213, Acc:99.3260, Val Loss: 0.0008, Val Acc: 97.1600\n",
            "Epoch [39/100], Loss: 0.0213, Acc:99.5120, Val Loss: 0.0001, Val Acc: 97.3400\n",
            "Epoch [40/100], Loss: 0.0217, Acc:99.4860, Val Loss: 0.0002, Val Acc: 97.1500\n",
            "Epoch [41/100], Loss: 0.0206, Acc:99.4240, Val Loss: 0.0001, Val Acc: 97.3000\n",
            "Epoch [42/100], Loss: 0.0195, Acc:99.4520, Val Loss: 0.0015, Val Acc: 97.1800\n",
            "Epoch [43/100], Loss: 0.0190, Acc:99.5020, Val Loss: 0.0000, Val Acc: 97.1500\n",
            "Epoch [44/100], Loss: 0.0175, Acc:99.5600, Val Loss: 0.0000, Val Acc: 97.3600\n",
            "Epoch [45/100], Loss: 0.0212, Acc:99.5960, Val Loss: 0.0002, Val Acc: 97.1300\n",
            "Epoch [46/100], Loss: 0.0198, Acc:99.5680, Val Loss: 0.0000, Val Acc: 97.3100\n",
            "Epoch [47/100], Loss: 0.0175, Acc:99.5760, Val Loss: 0.0000, Val Acc: 97.4100\n",
            "Epoch [48/100], Loss: 0.0168, Acc:99.6080, Val Loss: 0.0004, Val Acc: 97.4800\n",
            "Epoch [49/100], Loss: 0.0181, Acc:99.5760, Val Loss: 0.0001, Val Acc: 97.4200\n",
            "Epoch [50/100], Loss: 0.0168, Acc:99.5240, Val Loss: 0.0000, Val Acc: 97.1600\n",
            "Epoch [51/100], Loss: 0.0168, Acc:99.6000, Val Loss: 0.0004, Val Acc: 97.4200\n",
            "Epoch [52/100], Loss: 0.0160, Acc:99.5580, Val Loss: 0.0022, Val Acc: 97.2700\n",
            "Epoch [53/100], Loss: 0.0143, Acc:99.6300, Val Loss: 0.0013, Val Acc: 97.4000\n",
            "Epoch [54/100], Loss: 0.0163, Acc:99.5520, Val Loss: 0.0035, Val Acc: 97.2800\n",
            "Epoch [55/100], Loss: 0.0172, Acc:99.4060, Val Loss: 0.0013, Val Acc: 97.2600\n",
            "Epoch [56/100], Loss: 0.0151, Acc:99.6800, Val Loss: 0.0003, Val Acc: 97.5300\n",
            "Epoch [57/100], Loss: 0.0133, Acc:99.5840, Val Loss: 0.0001, Val Acc: 97.4700\n",
            "Epoch [58/100], Loss: 0.0135, Acc:99.5540, Val Loss: 0.0000, Val Acc: 97.2400\n",
            "Epoch [59/100], Loss: 0.0149, Acc:99.6280, Val Loss: 0.0008, Val Acc: 97.5700\n",
            "Epoch [60/100], Loss: 0.0122, Acc:99.6320, Val Loss: 0.0000, Val Acc: 97.4300\n",
            "Epoch [61/100], Loss: 0.0145, Acc:99.5260, Val Loss: 0.0000, Val Acc: 97.1500\n",
            "Epoch [62/100], Loss: 0.0141, Acc:99.6480, Val Loss: 0.0005, Val Acc: 97.6100\n",
            "Epoch [63/100], Loss: 0.0149, Acc:99.7160, Val Loss: 0.0003, Val Acc: 97.4900\n",
            "Epoch [64/100], Loss: 0.0153, Acc:99.6620, Val Loss: 0.0005, Val Acc: 97.5300\n",
            "Epoch [65/100], Loss: 0.0152, Acc:99.6320, Val Loss: 0.0001, Val Acc: 97.4500\n",
            "Epoch [66/100], Loss: 0.0114, Acc:99.6540, Val Loss: 0.0001, Val Acc: 97.4300\n",
            "Epoch [67/100], Loss: 0.0126, Acc:99.6540, Val Loss: 0.0000, Val Acc: 97.5400\n",
            "Epoch [68/100], Loss: 0.0125, Acc:99.6740, Val Loss: 0.0000, Val Acc: 97.4500\n",
            "Epoch [69/100], Loss: 0.0126, Acc:99.7300, Val Loss: 0.0000, Val Acc: 97.5500\n",
            "Epoch [70/100], Loss: 0.0127, Acc:99.7160, Val Loss: 0.0000, Val Acc: 97.6300\n",
            "Epoch [71/100], Loss: 0.0145, Acc:99.7240, Val Loss: 0.0000, Val Acc: 97.5300\n",
            "Epoch [72/100], Loss: 0.0107, Acc:99.6920, Val Loss: 0.0000, Val Acc: 97.6100\n",
            "Epoch [73/100], Loss: 0.0121, Acc:99.7240, Val Loss: 0.0000, Val Acc: 97.7400\n",
            "Epoch [74/100], Loss: 0.0122, Acc:99.6980, Val Loss: 0.0007, Val Acc: 97.4300\n",
            "Epoch [75/100], Loss: 0.0115, Acc:99.5600, Val Loss: 0.0021, Val Acc: 97.1100\n",
            "Epoch [76/100], Loss: 0.0132, Acc:99.7080, Val Loss: 0.0000, Val Acc: 97.5000\n",
            "Epoch [77/100], Loss: 0.0124, Acc:99.7060, Val Loss: 0.0000, Val Acc: 97.7000\n",
            "Epoch [78/100], Loss: 0.0113, Acc:99.7920, Val Loss: 0.0000, Val Acc: 97.8100\n",
            "Epoch [79/100], Loss: 0.0118, Acc:99.6860, Val Loss: 0.0000, Val Acc: 97.5500\n",
            "Epoch [80/100], Loss: 0.0110, Acc:99.7160, Val Loss: 0.0000, Val Acc: 97.6100\n",
            "Epoch [81/100], Loss: 0.0118, Acc:99.6900, Val Loss: 0.0010, Val Acc: 97.5600\n",
            "Epoch [82/100], Loss: 0.0087, Acc:99.7220, Val Loss: 0.0007, Val Acc: 97.4900\n",
            "Epoch [83/100], Loss: 0.0126, Acc:99.7180, Val Loss: 0.0000, Val Acc: 97.7600\n",
            "Epoch [84/100], Loss: 0.0107, Acc:99.7200, Val Loss: 0.0000, Val Acc: 97.4600\n",
            "Epoch [85/100], Loss: 0.0107, Acc:99.7100, Val Loss: 0.0000, Val Acc: 97.4700\n",
            "Epoch [86/100], Loss: 0.0119, Acc:99.6960, Val Loss: 0.0005, Val Acc: 97.6100\n",
            "Epoch [87/100], Loss: 0.0102, Acc:99.6740, Val Loss: 0.0012, Val Acc: 97.4400\n",
            "Epoch [88/100], Loss: 0.0084, Acc:99.7680, Val Loss: 0.0001, Val Acc: 97.5900\n",
            "Epoch [89/100], Loss: 0.0098, Acc:99.7840, Val Loss: 0.0000, Val Acc: 97.5300\n",
            "Epoch [90/100], Loss: 0.0113, Acc:99.7780, Val Loss: 0.0000, Val Acc: 97.4900\n",
            "Epoch [91/100], Loss: 0.0091, Acc:99.7440, Val Loss: 0.0013, Val Acc: 97.7500\n",
            "Epoch [92/100], Loss: 0.0106, Acc:99.7700, Val Loss: 0.0000, Val Acc: 97.5000\n",
            "Epoch [93/100], Loss: 0.0092, Acc:99.7160, Val Loss: 0.0000, Val Acc: 97.5100\n",
            "Epoch [94/100], Loss: 0.0103, Acc:99.7940, Val Loss: 0.0000, Val Acc: 97.7400\n",
            "Epoch [95/100], Loss: 0.0081, Acc:99.8020, Val Loss: 0.0000, Val Acc: 97.4100\n",
            "Epoch [96/100], Loss: 0.0102, Acc:99.6900, Val Loss: 0.0000, Val Acc: 97.6700\n",
            "Epoch [97/100], Loss: 0.0096, Acc:99.7700, Val Loss: 0.0000, Val Acc: 97.5800\n",
            "Epoch [98/100], Loss: 0.0099, Acc:99.7900, Val Loss: 0.0007, Val Acc: 97.4700\n",
            "Epoch [99/100], Loss: 0.0086, Acc:99.7320, Val Loss: 0.0009, Val Acc: 97.6600\n",
            "Epoch [100/100], Loss: 0.0085, Acc:99.7700, Val Loss: 0.0000, Val Acc: 97.5700\n",
            "Finished training.\n"
          ]
        }
      ]
    },
    {
      "cell_type": "markdown",
      "source": [
        "**zero_grad()** the training phase of every mini-batch we want to set them explicitly to zero before starting the backpropagation at that time we can use zero_grad() function as per requirement.\n",
        "\n"
      ],
      "metadata": {
        "id": "nibdsj1fTPjd"
      }
    },
    {
      "cell_type": "markdown",
      "source": [
        "**loss.backward** \n",
        "The backward() method in Pytorch is used to calculate the gradient during the backward pass in the neural network. If we do not call this backward() method then gradients are not calculated for the tensors. "
      ],
      "metadata": {
        "id": "Q8cwTPc5eNoH"
      }
    },
    {
      "cell_type": "markdown",
      "source": [
        "**optimizer.step()** Performs a single optimization step (parameter update)"
      ],
      "metadata": {
        "id": "KKwrCqv_eepg"
      }
    },
    {
      "cell_type": "markdown",
      "source": [
        "when initializing optimizer you explicitly tell it what parameters (tensors) of the model it should be updating. The gradients are \"stored\" by the tensors themselves (they have a grad and a requires_grad attributes) once you call backward() on the loss. After computing the gradients for all tensors in the model, calling optimizer.step() makes the optimizer iterate over all parameters (tensors) it is supposed to update and use their internally stored grad to update their values."
      ],
      "metadata": {
        "id": "U03iOHBXd1uG"
      }
    },
    {
      "cell_type": "markdown",
      "source": [
        "**loss.ietm()** calculates the running loss so that you could later calculate the mean loss of that epoch."
      ],
      "metadata": {
        "id": "7Hx3cvLfgFxY"
      }
    },
    {
      "cell_type": "markdown",
      "source": [
        "the code iterates over the batches in the train_loader, and for each batch, the model is applied to the inputs with outputs = model(inputs). The prediction is made by taking the index of the maximum value in the output with _, predicted = torch.max(outputs.data, 1). The total number of samples is accumulated in total, and the number of correct predictions is accumulated in correct."
      ],
      "metadata": {
        "id": "iAOktScCitye"
      }
    },
    {
      "cell_type": "markdown",
      "source": [
        "####6. Test the model using the `test_dataset`, and report accuracy and loss. (10 points)"
      ],
      "metadata": {
        "id": "MSDr2VB9Q0uA"
      }
    },
    {
      "cell_type": "code",
      "source": [
        "# Test the model on the test dataset\n",
        "\n",
        "model = model.eval()\n",
        "correct = 0\n",
        "total = 0\n",
        "test_loss = 0\n",
        "with torch.no_grad():\n",
        "    for data in test_dataloader:\n",
        "        model.eval()\n",
        "        inputs, labels = data\n",
        "        outputs = model(inputs)\n",
        "        loss = criterion(outputs, labels)\n",
        "        test_loss += loss.item()\n",
        "        _, predicted = torch.max(outputs.data, 1)\n",
        "        total += labels.size(0)\n",
        "        correct += (predicted == labels).sum().item()\n",
        "\n",
        "test_accuracy = 100 * correct / total\n",
        "test_loss /= len(test_dataloader)\n",
        "print('Test accuracy: {:.2f}%, Test loss: {:.4f}'.format(test_accuracy, test_loss))\n"
      ],
      "metadata": {
        "id": "Njcfq-uZLriH",
        "colab": {
          "base_uri": "https://localhost:8080/"
        },
        "outputId": "bd446523-3868-453f-a3e1-6022123c8239"
      },
      "execution_count": 16,
      "outputs": [
        {
          "output_type": "stream",
          "name": "stdout",
          "text": [
            "Test accuracy: 98.35%, Test loss: 0.1052\n"
          ]
        }
      ]
    },
    {
      "cell_type": "markdown",
      "source": [
        "#### 8. We would like to see how accurate the trained model is when applied to a set of images of digits with slight differences. The image of a digit in the MNIST dataset has a black background (0 value for pixel values). This might be like writing with white chalk on a blackboard. We make slight changes in the test datasets by applying a simple change `image = 1 - image`. In other words, we invert the pixel intensity values. The resulting images resemble a digit written with a black marker on a whiteboard. Test the model using the updated test_dataset, and report your observations regarding model performance. How would you change your pipeline if you redo this experiment? (15 points)"
      ],
      "metadata": {
        "id": "Mx9bidatV5RT"
      }
    },
    {
      "cell_type": "code",
      "source": [
        "test_dataset = torchvision.datasets.MNIST('data', train=False, transform=transforms.Compose([\n",
        "    transforms.ToTensor(),\n",
        "    transforms.Lambda(lambda x: 1 - x)\n",
        "]))\n",
        "\n",
        "\n",
        "test_loader = DataLoader(test_dataset, 32, shuffle = False )\n",
        "# Test the model on the test dataset\n",
        "\n",
        "model = model.eval()\n",
        "correct = 0\n",
        "total = 0\n",
        "test_loss = 0\n",
        "with torch.no_grad():\n",
        "    for data in test_loader:\n",
        "        inputs, labels = data\n",
        "        inputs = 1 - inputs\n",
        "        outputs = model(inputs)\n",
        "        loss = criterion(outputs, labels)\n",
        "        test_loss += loss.item()\n",
        "        _, predicted = torch.max(outputs.data, 1)\n",
        "        total += labels.size(0)\n",
        "        correct += (predicted == labels).sum().item()\n",
        "\n",
        "test_accuracy = 100 * correct / total\n",
        "test_loss /= len(test_loader)\n",
        "print('Test accuracy: {:.2f}%, Test loss: {:.4f}'.format(test_accuracy, test_loss))"
      ],
      "metadata": {
        "id": "tWL4gwwlTgOl",
        "colab": {
          "base_uri": "https://localhost:8080/"
        },
        "outputId": "c6b907e0-96a7-43c7-a833-a616e9bf53ee"
      },
      "execution_count": 20,
      "outputs": [
        {
          "output_type": "stream",
          "name": "stdout",
          "text": [
            "Test accuracy: 95.34%, Test loss: 0.1663\n"
          ]
        }
      ]
    },
    {
      "cell_type": "markdown",
      "source": [
        "This code defines a data transformation pipeline using PyTorch's transforms module. The transformation pipeline consists of two steps:\n",
        "\n",
        "transforms.ToTensor(): This transforms the input data into a PyTorch tensor. It converts the input data, which could be an image or any other format, to a tensor object that can be processed by a neural network.\n",
        "\n",
        "transforms.Lambda(lambda x: 1 - x): This applies a lambda function to the tensor object, which subtracts each pixel value of the input tensor from 1. This essentially inverts the colors of the input image, which could be useful for certain image processing tasks."
      ],
      "metadata": {
        "id": "92v1G1LJRLCg"
      }
    },
    {
      "cell_type": "markdown",
      "source": [
        "The accuracy of the model decreased due to the change in the input images. This is because the model was trained on images with black background (0 value for pixel values) and might not perform well on images with white background.\n",
        "\n",
        "To improve the model's performance:\n",
        "\n",
        "- Data augmentation: we can augment the training dataset with variations of the images such as rotation, scaling, and flipping. This will increase the diversity of the training data and make the model more robust to changes in the input images.\n",
        "\n",
        "- Preprocessing: we can perform additional preprocessing on the images such as thresholding, normalization, and contrast adjustment to make the images more similar to the training data.\n",
        "\n",
        "- Model architecture: we can change the model architecture to make it more suitable for the task at hand. For example,by increasing the number of layers, neurons, or add more advanced techniques.\n",
        "\n",
        "- Hyperparameter tuning: We can tune the hyperparameters such as learning rate, batch size, and number of epochs to optimize the model's performance.\n",
        "\n",
        "- Training on larger dataset: We can train the model on a larger dataset to improve its generalization ability."
      ],
      "metadata": {
        "id": "5gTEsL0ey4zZ"
      }
    },
    {
      "cell_type": "code",
      "source": [],
      "metadata": {
        "id": "FQe6vkMLRTmc"
      },
      "execution_count": null,
      "outputs": []
    }
  ]
}